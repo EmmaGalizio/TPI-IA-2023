{
 "nbformat": 4,
 "nbformat_minor": 0,
 "metadata": {
  "colab": {
   "provenance": [
    {
     "file_id": "1iw7Hs83S3Dl-ZtKEVNaVB4HJ8SsOA2zh",
     "timestamp": 1696005086635
    },
    {
     "file_id": "1FHlfCxxAOsWvSs5Obzt9x1RMfpnJEJ4w",
     "timestamp": 1695991431602
    }
   ],
   "collapsed_sections": [
    "ojqX5PUGKc5s",
    "5O0oeySKKc85",
    "YKTk4Ey_9bRP"
   ],
   "toc_visible": true
  },
  "kernelspec": {
   "name": "python3",
   "display_name": "Python 3"
  },
  "language_info": {
   "name": "python"
  }
 },
 "cells": [
  {
   "cell_type": "markdown",
   "source": [
    "# Trabajo práctico integrador de IAR 2023\n",
    "\n",
    "### Curso: 5K1\n",
    "### Grupo: 00\n",
    "### Integrantes:  \n",
    "###Aramayo, Marilina  -  70463\n",
    "###Capovilla, Luisina  - 67999\n",
    "###Galizio, Matias  -   65155\n",
    "###Marc, Florencia  -   60060\n",
    "\n"
   ],
   "metadata": {
    "id": "N1-Ii2pQwFdh"
   }
  },
  {
   "cell_type": "markdown",
   "source": [
    "# Enunciado"
   ],
   "metadata": {
    "id": "i0KrHss_W3Qi"
   }
  },
  {
   "cell_type": "markdown",
   "source": [
    "## Objetivos académicos"
   ],
   "metadata": {
    "id": "ogBYJ6Z8kHWY"
   }
  },
  {
   "cell_type": "markdown",
   "source": [
    "Con este trabajo práctico (TP) se busca ejercitar y evaluar, en situaciones similares a las reales, las siguientes capacidades:\n",
    " * Manipulación de datos.\n",
    " * Elección, ajuste y evaluación de modelos de clasificación.\n",
    " * Interpretación y comunicación de los resultados.\n",
    "\n",
    "\n"
   ],
   "metadata": {
    "id": "vGtqf0Z4W8Uq"
   }
  },
  {
   "cell_type": "markdown",
   "source": [
    "## Problema a resolver"
   ],
   "metadata": {
    "id": "k1Y1h2f5kLn6"
   }
  },
  {
   "cell_type": "markdown",
   "source": [
    "El objetivo particular del TP es clasificar laptops según el tamaño de su memoria RAM. Concretamente, predecir si determinada laptop tiene 16 GB de RAM o más.\n",
    "\n",
    "Los datos pertenecen al dataset **Laptops Price Dataset**. El dataset está  disponible en [Kaggle](https://www.kaggle.com/datasets/juanmerinobermejo/laptops-price-dataset), pero no es necesario extraerlo porque la carga ya está resuelta en este notebook.\n",
    "\n",
    "**Detalles**:\n",
    "\n",
    "* El atributo *Final Price* no se debe utilizar.\n",
    "* Se deben completar todas las secciones (de \"Preprocesamiento\", incluída, para abajo) del notebook.\n",
    "* Los datos se deben dividir en dos datasets, entrenamieno y validación. El dataset de validación debe contener el 25% de los datos y ambos deben tener la misma proporción de cada clase."
   ],
   "metadata": {
    "id": "kCtwv28skRAo"
   }
  },
  {
   "cell_type": "markdown",
   "source": [
    "## Grupos"
   ],
   "metadata": {
    "id": "VKjWblN9kRIe"
   }
  },
  {
   "cell_type": "markdown",
   "source": [
    "El TP es grupal.\n",
    "\n",
    "Los grupos pueden contener **como máximo 4 integrantes**. Como trabajo es el mismo para todos los cursos de IAR, se adminten integrantes de distintos cursos.\n",
    "\n",
    "Todos los integrantes deben comprender y ser capaces de explicar el trabajo completo.\n",
    "\n",
    "**Formalización de los grupos**. La conformación de cada grupo de debe informar en [este formulario](https://forms.gle/Qn9755h5wLokTkyf9).\n",
    "\n",
    "El orden de la carga de los grupos determina la fecha de presentación (no de entrega) del TP. Los primeros grupos en cargar el formulario exponen el último día y viceversa.\n"
   ],
   "metadata": {
    "id": "Lw3BWNr0kRLU"
   }
  },
  {
   "cell_type": "markdown",
   "source": [
    "## Entregables"
   ],
   "metadata": {
    "id": "RkUWOABokROL"
   }
  },
  {
   "cell_type": "markdown",
   "source": [
    "* **Notebook**. El presente notebook es un template para relizar el trabajo. Se debe hacer una copia, cargar los datos del encabezado, completar todas las secciones y subir un link al portafolio de cada uno de los integrantes antes de la fecha límite. Los notebooks no se deben editar después de la fecha de entrega.\n",
    "\n",
    "* **Informe**. Se debe escribir un informe que incluya:\n",
    "  * Una descripción de los datos y del problema a resolver.\n",
    "  * Un resumen de lo realizado.\n",
    "  * Si se utilizaron métodos no vistos en clases, una explicación resumida de los mismos.\n",
    "  * Problemas encontrados en el camino.\n",
    "  * Conclusión del TP.\n",
    "  \n",
    "  Por simplicidad, el informe se debe escribir al final del notebook.\n",
    "\n",
    "* **Exposición**. Presentación ante la clase del trabajo realizado.\n",
    "  * El documento usado para la presentación se debe cargar en el portafolio de todos los integrantes.\n",
    "  * Durante la presentación también es necesario tener el notebook abierto para mostrar algunos detalles del trabajo."
   ],
   "metadata": {
    "id": "6mmLuztpzOQZ"
   }
  },
  {
   "cell_type": "markdown",
   "source": [
    "## Evaluación"
   ],
   "metadata": {
    "id": "ipqbdReQuark"
   }
  },
  {
   "cell_type": "markdown",
   "source": [
    "Los criterios de evaluación en la [rúbrica](https://docs.google.com/spreadsheets/d/12pJD_Q_9iiCFLuy71Ha-xELHXRfqJcFP9uVsZRyb5A4/edit?usp=sharing) ."
   ],
   "metadata": {
    "id": "9PvBshz5J1ln"
   }
  },
  {
   "cell_type": "markdown",
   "source": [
    "## Fechas\n",
    "\n",
    "* Creación de los grupos: desde el 15/08/2023\n",
    "* Entrega final de todos los entregables: Ver en la UV\n",
    "* Fecha de 1ra presentación: Ver en la UV\n",
    "* Fecha de 2da presentación: Ver en la UV"
   ],
   "metadata": {
    "id": "qtg7ppcpuaur"
   }
  },
  {
   "cell_type": "markdown",
   "source": [
    "# Lectura de los datos"
   ],
   "metadata": {
    "id": "BAlE5fnsSwDh"
   }
  },
  {
   "cell_type": "code",
   "execution_count": 1,
   "metadata": {
    "id": "URh1D1eZvpFk"
   },
   "outputs": [],
   "source": [
    "import pandas as pd\n",
    "import urllib.request\n",
    "import matplotlib.pyplot as plt\n",
    "datos = pd.read_csv(urllib.request.urlopen(\"https://drive.google.com/uc?id=1-pktH7BqyjQ4VKHP1tH8VWY8pu2BVKt0\"))"
   ]
  },
  {
   "cell_type": "markdown",
   "source": [
    "# Preprocesamiento"
   ],
   "metadata": {
    "id": "AWuUl_SN2UlJ"
   }
  },
  {
   "cell_type": "markdown",
   "source": [
    "## Importante:\n",
    "\n",
    "Los pasos que se encuentran a continuación (antes de la clasificación) son muy importantes en los problemas de este tipo. Queda a elección de los grupos qué hacen en cada uno. Pueden omitirlos, cambiarlos de órden y/o agregar nuevas tareas, como el balanceado de las clases por ejemplo, pero cada decisión tomada (qué no se hace, qué sí se hace y cómo se lo hace) se debe fundamentar."
   ],
   "metadata": {
    "id": "z4f6VSHPMClk"
   }
  },
  {
   "cell_type": "markdown",
   "source": [
    "## Exploración de los datos\n",
    "\n",
    "(distribución, correlación, visualización, etc.)"
   ],
   "metadata": {
    "id": "FPg7nw3TKcsB"
   }
  },
  {
   "cell_type": "code",
   "source": [
    "#Resumen de los datos:\n",
    "datos.describe()"
   ],
   "metadata": {
    "colab": {
     "base_uri": "https://localhost:8080/",
     "height": 300
    },
    "id": "52ARDN0zAbFc",
    "executionInfo": {
     "status": "ok",
     "timestamp": 1696001731025,
     "user_tz": 180,
     "elapsed": 406,
     "user": {
      "displayName": "Matias Emmanuel Galizio",
      "userId": "06466196033861267683"
     }
    },
    "outputId": "706bca97-2130-4e76-b145-21d6db5b760b"
   },
   "execution_count": 2,
   "outputs": [
    {
     "data": {
      "text/plain": "               RAM      Storage       Screen  Final Price\ncount  2160.000000  2160.000000  2156.000000  2160.000000\nmean     15.413889   596.294444    15.168112  1312.638509\nstd       9.867815   361.220506     1.203329   911.475417\nmin       4.000000     0.000000    10.100000   201.050000\n25%       8.000000   256.000000    14.000000   661.082500\n50%      16.000000   512.000000    15.600000  1031.945000\n75%      16.000000  1000.000000    15.600000  1708.970000\nmax     128.000000  4000.000000    18.000000  7150.470000",
      "text/html": "<div>\n<style scoped>\n    .dataframe tbody tr th:only-of-type {\n        vertical-align: middle;\n    }\n\n    .dataframe tbody tr th {\n        vertical-align: top;\n    }\n\n    .dataframe thead th {\n        text-align: right;\n    }\n</style>\n<table border=\"1\" class=\"dataframe\">\n  <thead>\n    <tr style=\"text-align: right;\">\n      <th></th>\n      <th>RAM</th>\n      <th>Storage</th>\n      <th>Screen</th>\n      <th>Final Price</th>\n    </tr>\n  </thead>\n  <tbody>\n    <tr>\n      <th>count</th>\n      <td>2160.000000</td>\n      <td>2160.000000</td>\n      <td>2156.000000</td>\n      <td>2160.000000</td>\n    </tr>\n    <tr>\n      <th>mean</th>\n      <td>15.413889</td>\n      <td>596.294444</td>\n      <td>15.168112</td>\n      <td>1312.638509</td>\n    </tr>\n    <tr>\n      <th>std</th>\n      <td>9.867815</td>\n      <td>361.220506</td>\n      <td>1.203329</td>\n      <td>911.475417</td>\n    </tr>\n    <tr>\n      <th>min</th>\n      <td>4.000000</td>\n      <td>0.000000</td>\n      <td>10.100000</td>\n      <td>201.050000</td>\n    </tr>\n    <tr>\n      <th>25%</th>\n      <td>8.000000</td>\n      <td>256.000000</td>\n      <td>14.000000</td>\n      <td>661.082500</td>\n    </tr>\n    <tr>\n      <th>50%</th>\n      <td>16.000000</td>\n      <td>512.000000</td>\n      <td>15.600000</td>\n      <td>1031.945000</td>\n    </tr>\n    <tr>\n      <th>75%</th>\n      <td>16.000000</td>\n      <td>1000.000000</td>\n      <td>15.600000</td>\n      <td>1708.970000</td>\n    </tr>\n    <tr>\n      <th>max</th>\n      <td>128.000000</td>\n      <td>4000.000000</td>\n      <td>18.000000</td>\n      <td>7150.470000</td>\n    </tr>\n  </tbody>\n</table>\n</div>"
     },
     "execution_count": 2,
     "metadata": {},
     "output_type": "execute_result"
    }
   ]
  },
  {
   "cell_type": "code",
   "source": [
    "#Distribución de memoria RAM\n",
    "\n",
    "# Crear el histograma\n",
    "plt.hist(datos['RAM'], bins = 100, color='skyblue', edgecolor='black')\n",
    "\n",
    "# Personalizar el gráfico (opcional)\n",
    "plt.title('Histograma de RAM')\n",
    "plt.xlabel('Valor de RAM')\n",
    "plt.ylabel('Frecuencia')\n",
    "plt.grid(True)\n",
    "\n",
    "# Establecer los límites del eje y de manera manual\n",
    "plt.ylim(0, 1000)  # Puedes ajustar estos límites según tus datos\n",
    "\n",
    "# Mostrar el histograma y los datos\n",
    "plt.show()\n",
    "\n"
   ],
   "metadata": {
    "id": "V3dXucFhLP9_",
    "colab": {
     "base_uri": "https://localhost:8080/",
     "height": 472
    },
    "executionInfo": {
     "status": "ok",
     "timestamp": 1696001755832,
     "user_tz": 180,
     "elapsed": 1947,
     "user": {
      "displayName": "Matias Emmanuel Galizio",
      "userId": "06466196033861267683"
     }
    },
    "outputId": "a5051902-6975-420e-8ffc-bf750cfceae9"
   },
   "execution_count": 3,
   "outputs": [
    {
     "data": {
      "text/plain": "<Figure size 640x480 with 1 Axes>",
      "image/png": "[encoded data removed]"
     },
     "metadata": {},
     "output_type": "display_data"
    }
   ]
  },
  {
   "cell_type": "code",
   "source": [],
   "metadata": {
    "id": "kybS3G_jsIPN"
   },
   "execution_count": 3,
   "outputs": []
  },
  {
   "cell_type": "markdown",
   "source": [
    "### Explicación, justificación y conclusiones de las actividades desarrolladas en la sección"
   ],
   "metadata": {
    "id": "Qd6OX5vP-MJI"
   }
  },
  {
   "cell_type": "markdown",
   "source": [],
   "metadata": {
    "id": "9i4b9yrJ-NlW"
   }
  },
  {
   "cell_type": "markdown",
   "source": [
    "## Imputación de valores faltantes"
   ],
   "metadata": {
    "id": "_fvIArvrKcwS"
   }
  },
  {
   "cell_type": "code",
   "source": [
    "\n",
    "# Calcula la cantidad de valores nulos en cada columna\n",
    "null_counts = datos.isnull().sum()\n",
    "\n",
    "# Calcula la cantidad total de elementos en cada columna\n",
    "total_counts = datos.count()\n",
    "\n",
    "# Crea un DataFrame para mostrar la información\n",
    "info_df = pd.DataFrame({'Cantidad de Valores Nulos': null_counts, 'Cantidad Total de Elementos': total_counts})\n",
    "\n",
    "# Muestra la tabla de información\n",
    "info_df"
   ],
   "metadata": {
    "colab": {
     "base_uri": "https://localhost:8080/",
     "height": 426
    },
    "id": "aucsafSEBigP",
    "executionInfo": {
     "status": "ok",
     "timestamp": 1696002799211,
     "user_tz": 180,
     "elapsed": 393,
     "user": {
      "displayName": "Matias Emmanuel Galizio",
      "userId": "06466196033861267683"
     }
    },
    "outputId": "1e6da246-28f7-49b0-b0fb-a1e4a6e4d736"
   },
   "execution_count": 4,
   "outputs": [
    {
     "data": {
      "text/plain": "              Cantidad de Valores Nulos  Cantidad Total de Elementos\nLaptop                                0                         2160\nStatus                                0                         2160\nBrand                                 0                         2160\nModel                                 0                         2160\nCPU                                   0                         2160\nRAM                                   0                         2160\nStorage                               0                         2160\nStorage type                         42                         2118\nGPU                                1371                          789\nScreen                                4                         2156\nTouch                                 0                         2160\nFinal Price                           0                         2160",
      "text/html": "<div>\n<style scoped>\n    .dataframe tbody tr th:only-of-type {\n        vertical-align: middle;\n    }\n\n    .dataframe tbody tr th {\n        vertical-align: top;\n    }\n\n    .dataframe thead th {\n        text-align: right;\n    }\n</style>\n<table border=\"1\" class=\"dataframe\">\n  <thead>\n    <tr style=\"text-align: right;\">\n      <th></th>\n      <th>Cantidad de Valores Nulos</th>\n      <th>Cantidad Total de Elementos</th>\n    </tr>\n  </thead>\n  <tbody>\n    <tr>\n      <th>Laptop</th>\n      <td>0</td>\n      <td>2160</td>\n    </tr>\n    <tr>\n      <th>Status</th>\n      <td>0</td>\n      <td>2160</td>\n    </tr>\n    <tr>\n      <th>Brand</th>\n      <td>0</td>\n      <td>2160</td>\n    </tr>\n    <tr>\n      <th>Model</th>\n      <td>0</td>\n      <td>2160</td>\n    </tr>\n    <tr>\n      <th>CPU</th>\n      <td>0</td>\n      <td>2160</td>\n    </tr>\n    <tr>\n      <th>RAM</th>\n      <td>0</td>\n      <td>2160</td>\n    </tr>\n    <tr>\n      <th>Storage</th>\n      <td>0</td>\n      <td>2160</td>\n    </tr>\n    <tr>\n      <th>Storage type</th>\n      <td>42</td>\n      <td>2118</td>\n    </tr>\n    <tr>\n      <th>GPU</th>\n      <td>1371</td>\n      <td>789</td>\n    </tr>\n    <tr>\n      <th>Screen</th>\n      <td>4</td>\n      <td>2156</td>\n    </tr>\n    <tr>\n      <th>Touch</th>\n      <td>0</td>\n      <td>2160</td>\n    </tr>\n    <tr>\n      <th>Final Price</th>\n      <td>0</td>\n      <td>2160</td>\n    </tr>\n  </tbody>\n</table>\n</div>"
     },
     "execution_count": 4,
     "metadata": {},
     "output_type": "execute_result"
    }
   ]
  },
  {
   "cell_type": "code",
   "source": [
    "#Eliminación de registros a los que les falta el storage type\n",
    "datos =  datos.dropna(subset=['Storage type'])"
   ],
   "metadata": {
    "id": "9IX6BfE2y1gO"
   },
   "execution_count": 5,
   "outputs": []
  },
  {
   "cell_type": "code",
   "source": [
    "#Registros sin tamaño de pantalla registrado\n",
    "datos[datos[\"Screen\"].isna()]"
   ],
   "metadata": {
    "colab": {
     "base_uri": "https://localhost:8080/",
     "height": 175
    },
    "id": "KAHreYHz0Gpv",
    "executionInfo": {
     "status": "ok",
     "timestamp": 1696002804765,
     "user_tz": 180,
     "elapsed": 521,
     "user": {
      "displayName": "Matias Emmanuel Galizio",
      "userId": "06466196033861267683"
     }
    },
    "outputId": "737b1632-5eaa-40a6-ed9d-9a5cc67bf861"
   },
   "execution_count": 6,
   "outputs": [
    {
     "data": {
      "text/plain": "                                                 Laptop Status   Brand  \\\n624   Acer Extensa 15 EX215-54 Intel Core i5-1135G7/...    New    Acer   \n1430  HP ENVY x360 2-in-1 Laptop 15-ew0008np Intel C...    New      HP   \n1503  Lenovo IdeaPad Gaming 3 15ACH6 AMD Ryzen 5 560...    New  Lenovo   \n1548  Lenovo ThinkPad P15 Gen 2 Intel Core i7-11850H...    New  Lenovo   \n\n         Model            CPU  RAM  Storage Storage type        GPU  Screen  \\\n624    Extensa  Intel Core i5    8      256          SSD        NaN     NaN   \n1430      Envy  Intel Core i7   16      512          SSD   RTX 2050     NaN   \n1503   IdeaPad    AMD Ryzen 5   16      512          SSD   RTX 3060     NaN   \n1548  ThinkPad  Intel Core i7   16      512          SSD  RTX A2000     NaN   \n\n     Touch  Final Price  \n624     No       524.99  \n1430   Yes      1863.52  \n1503    No      1505.00  \n1548    No      2569.00  ",
      "text/html": "<div>\n<style scoped>\n    .dataframe tbody tr th:only-of-type {\n        vertical-align: middle;\n    }\n\n    .dataframe tbody tr th {\n        vertical-align: top;\n    }\n\n    .dataframe thead th {\n        text-align: right;\n    }\n</style>\n<table border=\"1\" class=\"dataframe\">\n  <thead>\n    <tr style=\"text-align: right;\">\n      <th></th>\n      <th>Laptop</th>\n      <th>Status</th>\n      <th>Brand</th>\n      <th>Model</th>\n      <th>CPU</th>\n      <th>RAM</th>\n      <th>Storage</th>\n      <th>Storage type</th>\n      <th>GPU</th>\n      <th>Screen</th>\n      <th>Touch</th>\n      <th>Final Price</th>\n    </tr>\n  </thead>\n  <tbody>\n    <tr>\n      <th>624</th>\n      <td>Acer Extensa 15 EX215-54 Intel Core i5-1135G7/...</td>\n      <td>New</td>\n      <td>Acer</td>\n      <td>Extensa</td>\n      <td>Intel Core i5</td>\n      <td>8</td>\n      <td>256</td>\n      <td>SSD</td>\n      <td>NaN</td>\n      <td>NaN</td>\n      <td>No</td>\n      <td>524.99</td>\n    </tr>\n    <tr>\n      <th>1430</th>\n      <td>HP ENVY x360 2-in-1 Laptop 15-ew0008np Intel C...</td>\n      <td>New</td>\n      <td>HP</td>\n      <td>Envy</td>\n      <td>Intel Core i7</td>\n      <td>16</td>\n      <td>512</td>\n      <td>SSD</td>\n      <td>RTX 2050</td>\n      <td>NaN</td>\n      <td>Yes</td>\n      <td>1863.52</td>\n    </tr>\n    <tr>\n      <th>1503</th>\n      <td>Lenovo IdeaPad Gaming 3 15ACH6 AMD Ryzen 5 560...</td>\n      <td>New</td>\n      <td>Lenovo</td>\n      <td>IdeaPad</td>\n      <td>AMD Ryzen 5</td>\n      <td>16</td>\n      <td>512</td>\n      <td>SSD</td>\n      <td>RTX 3060</td>\n      <td>NaN</td>\n      <td>No</td>\n      <td>1505.00</td>\n    </tr>\n    <tr>\n      <th>1548</th>\n      <td>Lenovo ThinkPad P15 Gen 2 Intel Core i7-11850H...</td>\n      <td>New</td>\n      <td>Lenovo</td>\n      <td>ThinkPad</td>\n      <td>Intel Core i7</td>\n      <td>16</td>\n      <td>512</td>\n      <td>SSD</td>\n      <td>RTX A2000</td>\n      <td>NaN</td>\n      <td>No</td>\n      <td>2569.00</td>\n    </tr>\n  </tbody>\n</table>\n</div>"
     },
     "execution_count": 6,
     "metadata": {},
     "output_type": "execute_result"
    }
   ]
  },
  {
   "cell_type": "code",
   "source": [
    "#Completado de valores faltantes para columna Screen\n",
    "\n",
    "datos.at[624, 'Screen'] = 15.6\n",
    "datos.at[1430, 'Screen'] = 15.6\n",
    "datos.at[1503, 'Screen'] = 15.6\n",
    "datos.at[1548, 'Screen'] = 15.6"
   ],
   "metadata": {
    "id": "yHFlQWRl1MX1"
   },
   "execution_count": 7,
   "outputs": []
  },
  {
   "cell_type": "code",
   "source": [
    "#Reemplazar valores faltantes de columna GPU por \"N/A\"\n",
    "\n",
    "datos[\"GPU\"] = datos[\"GPU\"].fillna(\"N/A\")\n"
   ],
   "metadata": {
    "id": "ANt_qKrYNg1O"
   },
   "execution_count": 8,
   "outputs": []
  },
  {
   "cell_type": "code",
   "source": [
    "# Calcula la cantidad de valores nulos en cada columna\n",
    "null_counts = datos.isnull().sum()\n",
    "\n",
    "# Calcula la cantidad total de elementos en cada columna\n",
    "total_counts = datos.count()\n",
    "\n",
    "# Crea un DataFrame para mostrar la información\n",
    "info_df = pd.DataFrame({'Cantidad de Valores Nulos': null_counts, 'Cantidad Total de Elementos': total_counts})\n",
    "\n",
    "# Muestra la tabla de información\n",
    "info_df"
   ],
   "metadata": {
    "colab": {
     "base_uri": "https://localhost:8080/",
     "height": 426
    },
    "id": "PGAzhGJs2QXc",
    "executionInfo": {
     "status": "ok",
     "timestamp": 1696002811018,
     "user_tz": 180,
     "elapsed": 6,
     "user": {
      "displayName": "Matias Emmanuel Galizio",
      "userId": "06466196033861267683"
     }
    },
    "outputId": "0884a23f-7174-45f5-bdfc-4242b2d6487f"
   },
   "execution_count": 9,
   "outputs": [
    {
     "data": {
      "text/plain": "              Cantidad de Valores Nulos  Cantidad Total de Elementos\nLaptop                                0                         2118\nStatus                                0                         2118\nBrand                                 0                         2118\nModel                                 0                         2118\nCPU                                   0                         2118\nRAM                                   0                         2118\nStorage                               0                         2118\nStorage type                          0                         2118\nGPU                                   0                         2118\nScreen                                0                         2118\nTouch                                 0                         2118\nFinal Price                           0                         2118",
      "text/html": "<div>\n<style scoped>\n    .dataframe tbody tr th:only-of-type {\n        vertical-align: middle;\n    }\n\n    .dataframe tbody tr th {\n        vertical-align: top;\n    }\n\n    .dataframe thead th {\n        text-align: right;\n    }\n</style>\n<table border=\"1\" class=\"dataframe\">\n  <thead>\n    <tr style=\"text-align: right;\">\n      <th></th>\n      <th>Cantidad de Valores Nulos</th>\n      <th>Cantidad Total de Elementos</th>\n    </tr>\n  </thead>\n  <tbody>\n    <tr>\n      <th>Laptop</th>\n      <td>0</td>\n      <td>2118</td>\n    </tr>\n    <tr>\n      <th>Status</th>\n      <td>0</td>\n      <td>2118</td>\n    </tr>\n    <tr>\n      <th>Brand</th>\n      <td>0</td>\n      <td>2118</td>\n    </tr>\n    <tr>\n      <th>Model</th>\n      <td>0</td>\n      <td>2118</td>\n    </tr>\n    <tr>\n      <th>CPU</th>\n      <td>0</td>\n      <td>2118</td>\n    </tr>\n    <tr>\n      <th>RAM</th>\n      <td>0</td>\n      <td>2118</td>\n    </tr>\n    <tr>\n      <th>Storage</th>\n      <td>0</td>\n      <td>2118</td>\n    </tr>\n    <tr>\n      <th>Storage type</th>\n      <td>0</td>\n      <td>2118</td>\n    </tr>\n    <tr>\n      <th>GPU</th>\n      <td>0</td>\n      <td>2118</td>\n    </tr>\n    <tr>\n      <th>Screen</th>\n      <td>0</td>\n      <td>2118</td>\n    </tr>\n    <tr>\n      <th>Touch</th>\n      <td>0</td>\n      <td>2118</td>\n    </tr>\n    <tr>\n      <th>Final Price</th>\n      <td>0</td>\n      <td>2118</td>\n    </tr>\n  </tbody>\n</table>\n</div>"
     },
     "execution_count": 9,
     "metadata": {},
     "output_type": "execute_result"
    }
   ]
  },
  {
   "cell_type": "markdown",
   "source": [
    "### Explicación, justificación y conclusiones de las actividades desarrolladas en la sección"
   ],
   "metadata": {
    "id": "eGcFBR71-dxF"
   }
  },
  {
   "cell_type": "markdown",
   "source": [],
   "metadata": {
    "id": "VkshOst1-dz6"
   }
  },
  {
   "cell_type": "markdown",
   "source": [
    "## Escalado, estandarizado o normalización"
   ],
   "metadata": {
    "id": "ODM6uVnFKc0A"
   }
  },
  {
   "cell_type": "markdown",
   "source": [
    "### Explicación, justificación y conclusiones de las actividades desarrolladas en la sección"
   ],
   "metadata": {
    "id": "EPU8CnR2-ges"
   }
  },
  {
   "cell_type": "markdown",
   "source": [],
   "metadata": {
    "id": "2jisyO2Y-ghq"
   }
  },
  {
   "cell_type": "markdown",
   "source": [
    "## Codificación de variables categóricas"
   ],
   "metadata": {
    "id": "bXOpa58ZKc3F"
   }
  },
  {
   "cell_type": "code",
   "source": [
    "#ANALISIS DE VARIABLES CATEGORICAS\n",
    "columnas_interes = ['Brand', 'Model', 'Status', 'Storage type', 'CPU', 'GPU', 'Touch']\n",
    "\n",
    "# Crear una lista para almacenar los DataFrames individuales\n",
    "frames = []\n",
    "\n",
    "# Iterar sobre las columnas de interés y obtener los valores distintos\n",
    "for columna in columnas_interes:\n",
    "    valores_distintos = datos[columna].unique()\n",
    "    valores_distintos_str = ', '.join(map(str, valores_distintos))\n",
    "    frame = pd.DataFrame({'Columna': [columna], 'Valores Distintos': [valores_distintos_str]})\n",
    "    frames.append(frame)\n",
    "\n",
    "# Concatenar los DataFrames individuales en uno solo\n",
    "resultados = pd.concat(frames, ignore_index=True)\n",
    "\n",
    "# Mostrar la tabla con los valores distintos de manera amigable\n",
    "resultados.style.set_properties(**{'text-align': 'left'})"
   ],
   "metadata": {
    "colab": {
     "base_uri": "https://localhost:8080/",
     "height": 425
    },
    "id": "zA-FwZtfGNM2",
    "executionInfo": {
     "status": "ok",
     "timestamp": 1696002816001,
     "user_tz": 180,
     "elapsed": 403,
     "user": {
      "displayName": "Matias Emmanuel Galizio",
      "userId": "06466196033861267683"
     }
    },
    "outputId": "e91d366e-35c2-4f2b-ffb4-f88b6263a082"
   },
   "execution_count": 10,
   "outputs": [
    {
     "data": {
      "text/plain": "<pandas.io.formats.style.Styler at 0x1c503f2af90>",
      "text/html": "<style type=\"text/css\">\n#T_8f84d_row0_col0, #T_8f84d_row0_col1, #T_8f84d_row1_col0, #T_8f84d_row1_col1, #T_8f84d_row2_col0, #T_8f84d_row2_col1, #T_8f84d_row3_col0, #T_8f84d_row3_col1, #T_8f84d_row4_col0, #T_8f84d_row4_col1, #T_8f84d_row5_col0, #T_8f84d_row5_col1, #T_8f84d_row6_col0, #T_8f84d_row6_col1 {\n  text-align: left;\n}\n</style>\n<table id=\"T_8f84d\">\n  <thead>\n    <tr>\n      <th class=\"blank level0\" >&nbsp;</th>\n      <th id=\"T_8f84d_level0_col0\" class=\"col_heading level0 col0\" >Columna</th>\n      <th id=\"T_8f84d_level0_col1\" class=\"col_heading level0 col1\" >Valores Distintos</th>\n    </tr>\n  </thead>\n  <tbody>\n    <tr>\n      <th id=\"T_8f84d_level0_row0\" class=\"row_heading level0 row0\" >0</th>\n      <td id=\"T_8f84d_row0_col0\" class=\"data row0 col0\" >Brand</td>\n      <td id=\"T_8f84d_row0_col1\" class=\"data row0 col1\" >Asus, Alurin, MSI, HP, Lenovo, Medion, Acer, Apple, Razer, Gigabyte, Dell, LG, Samsung, PcCom, Microsoft, Primux, Prixton, Dynabook Toshiba, Thomson, Denver, Deep Gaming, Vant, Innjoo, Jetwing, Millenium, Realme, Toshiba</td>\n    </tr>\n    <tr>\n      <th id=\"T_8f84d_level0_row1\" class=\"row_heading level0 row1\" >1</th>\n      <td id=\"T_8f84d_row1_col0\" class=\"data row1 col0\" >Model</td>\n      <td id=\"T_8f84d_row1_col1\" class=\"data row1 col1\" >ExpertBook, Go, Katana, 15S, Crosshair, ThinkPad, VivoBook, Akoya, Victus, V15, Thin, ROG, IdeaPad, Cyborg, M515UA, TUF, Aspire, Pavilion, Vector, Chromebook, Omen, ZenBook, Creator, MacBook Air, ThinkBook, 250, Modern, 255, MacBook Pro, Prestige, Stealth, Pulse, Blade, Legion, Raider, ProBook, F515, G5, Vostro, Nitro, Gram, E410, Bravo, Aero, Yoga, Galaxy Book, Erazer, Summit, Ultra, Extensa, Flex, EliteBook, Revolt, Latitude, Envy, Deputy, Predator, Surface Laptop, Flex Advance, 14w, Titan, Ioxbook, Aorus, Swift, Surface Go, Netbook Pro, Surface Pro, Notebook, 470, Spectre, Satellite Pro, XPS, ConceptD, E510, Beast, TravelMate, Portégé, Tecra, Neo, Electronics, 14S, Classmate Pro, 17, Zbook, BR, 300w, M515, Nubian, 100e, Moove, V14, ProArt, 100w, V17, F415EA, LOQ, Leopard, U4, P1511, Enduro, Precision, G7, Voom, N1510, WS63, AURELION, AZIR, Book Prime, Edge, Book, F415, P1411, A7, 15U70N, V330, Alpha, Delta, GL65, GL75</td>\n    </tr>\n    <tr>\n      <th id=\"T_8f84d_level0_row2\" class=\"row_heading level0 row2\" >2</th>\n      <td id=\"T_8f84d_row2_col0\" class=\"data row2 col0\" >Status</td>\n      <td id=\"T_8f84d_row2_col1\" class=\"data row2 col1\" >New, Refurbished</td>\n    </tr>\n    <tr>\n      <th id=\"T_8f84d_level0_row3\" class=\"row_heading level0 row3\" >3</th>\n      <td id=\"T_8f84d_row3_col0\" class=\"data row3 col0\" >Storage type</td>\n      <td id=\"T_8f84d_row3_col1\" class=\"data row3 col1\" >SSD, eMMC</td>\n    </tr>\n    <tr>\n      <th id=\"T_8f84d_level0_row4\" class=\"row_heading level0 row4\" >4</th>\n      <td id=\"T_8f84d_row4_col0\" class=\"data row4 col0\" >CPU</td>\n      <td id=\"T_8f84d_row4_col1\" class=\"data row4 col1\" >Intel Core i5, Intel Celeron, Intel Core i3, Intel Core i7, AMD Ryzen 5, AMD Ryzen 7, AMD Ryzen 3, Apple M1, AMD Athlon, Apple M2, AMD Ryzen 9, Intel Core i9, AMD 3020e, Qualcomm Snapdragon 7, Intel Evo Core i7, Intel Evo Core i5, Intel Pentium, Apple M2 Pro, Intel Evo Core i9, AMD 3015e, Apple M1 Pro, AMD Radeon 9, Mediatek MT8183, AMD 3015Ce, Qualcomm Snapdragon 8, Intel Core M3, Microsoft SQ1</td>\n    </tr>\n    <tr>\n      <th id=\"T_8f84d_level0_row5\" class=\"row_heading level0 row5\" >5</th>\n      <td id=\"T_8f84d_row5_col0\" class=\"data row5 col0\" >GPU</td>\n      <td id=\"T_8f84d_row5_col1\" class=\"data row5 col1\" >N/A, RTX 3050, RTX 4060, RTX 4050, RTX 3060, RTX 4070, RTX 2050, GTX 1650, RTX 3070, 610 M, RTX 4080, RX 6500M, MX 550, RTX 3080, RTX 4090, RX 7600S, A 370M, GTX 1660, RTX A1000, RTX 3000, T 1200, Radeon Pro 5300M, A 730M, Radeon Pro RX 560X, RTX A5500, Radeon Pro 5500M, T 500, T 550, RTX A3000, T 2000, T 600, T 1000, Radeon RX 6600M, MX 330, RTX A2000, MX 450, RTX 2070, RX 6800S, RTX 2080, RTX 2060, GTX 1050, MX 130, P 500, RX 6700M, GTX 1070</td>\n    </tr>\n    <tr>\n      <th id=\"T_8f84d_level0_row6\" class=\"row_heading level0 row6\" >6</th>\n      <td id=\"T_8f84d_row6_col0\" class=\"data row6 col0\" >Touch</td>\n      <td id=\"T_8f84d_row6_col1\" class=\"data row6 col1\" >No, Yes</td>\n    </tr>\n  </tbody>\n</table>\n"
     },
     "execution_count": 10,
     "metadata": {},
     "output_type": "execute_result"
    }
   ]
  },
  {
   "cell_type": "code",
   "source": [
    "columnas_codificar = ['Brand', 'Model', 'Storage type', 'CPU', 'Touch', 'GPU']\n",
    "\n",
    "# Aplica la codificación One-Hot a las columnas de interés\n",
    "datos_codificados = pd.get_dummies(datos, columns=columnas_codificar, prefix=columnas_codificar)\n",
    "\n",
    "# Mostrar el nuevo DataFrame con las columnas codificadas One-Hot\n",
    "print(datos_codificados)"
   ],
   "metadata": {
    "colab": {
     "base_uri": "https://localhost:8080/"
    },
    "id": "PZZHEQOjOCAO",
    "executionInfo": {
     "status": "ok",
     "timestamp": 1696002994674,
     "user_tz": 180,
     "elapsed": 379,
     "user": {
      "displayName": "Matias Emmanuel Galizio",
      "userId": "06466196033861267683"
     }
    },
    "outputId": "eed7e913-f776-47ad-8e90-6268e23c84c4"
   },
   "execution_count": 11,
   "outputs": [
    {
     "name": "stdout",
     "output_type": "stream",
     "text": [
      "                                                 Laptop       Status  RAM  \\\n",
      "0     ASUS ExpertBook B1 B1502CBA-EJ0436X Intel Core...          New    8   \n",
      "1     Alurin Go Start Intel Celeron N4020/8GB/256GB ...          New    8   \n",
      "2     ASUS ExpertBook B1 B1502CBA-EJ0424X Intel Core...          New    8   \n",
      "3     MSI Katana GF66 12UC-082XES Intel Core i7-1270...          New   16   \n",
      "4     HP 15S-FQ5085NS Intel Core i5-1235U/16GB/512GB...          New   16   \n",
      "...                                                 ...          ...  ...   \n",
      "2155  Razer Blade 17 FHD 360Hz Intel Core i7-11800H/...  Refurbished   16   \n",
      "2156  Razer Blade 17 FHD 360Hz Intel Core i7-11800H/...  Refurbished   16   \n",
      "2157  Razer Blade 17 FHD 360Hz Intel Core i7-11800H/...  Refurbished   32   \n",
      "2158  Razer Book 13 Intel Evo Core i7-1165G7/16GB/1T...  Refurbished   16   \n",
      "2159  Razer Book FHD+ Intel Evo Core i7-1165G7/16GB/...  Refurbished   16   \n",
      "\n",
      "      Storage  Screen  Final Price  Brand_Acer  Brand_Alurin  Brand_Apple  \\\n",
      "0         512    15.6      1009.00       False         False        False   \n",
      "1         256    15.6       299.00       False          True        False   \n",
      "2         256    15.6       789.00       False         False        False   \n",
      "3        1000    15.6      1199.00       False         False        False   \n",
      "4         512    15.6       669.01       False         False        False   \n",
      "...       ...     ...          ...         ...           ...          ...   \n",
      "2155     1000    17.3      2699.99       False         False        False   \n",
      "2156     1000    17.3      2899.99       False         False        False   \n",
      "2157     1000    17.3      3399.99       False         False        False   \n",
      "2158     1000    13.4      1899.99       False         False        False   \n",
      "2159      256    13.4      1699.99       False         False        False   \n",
      "\n",
      "      Brand_Asus  ...  GPU_Radeon Pro 5300M  GPU_Radeon Pro 5500M  \\\n",
      "0           True  ...                 False                 False   \n",
      "1          False  ...                 False                 False   \n",
      "2           True  ...                 False                 False   \n",
      "3          False  ...                 False                 False   \n",
      "4          False  ...                 False                 False   \n",
      "...          ...  ...                   ...                   ...   \n",
      "2155       False  ...                 False                 False   \n",
      "2156       False  ...                 False                 False   \n",
      "2157       False  ...                 False                 False   \n",
      "2158       False  ...                 False                 False   \n",
      "2159       False  ...                 False                 False   \n",
      "\n",
      "      GPU_Radeon Pro RX 560X  GPU_Radeon RX 6600M  GPU_T 1000  GPU_T 1200  \\\n",
      "0                      False                False       False       False   \n",
      "1                      False                False       False       False   \n",
      "2                      False                False       False       False   \n",
      "3                      False                False       False       False   \n",
      "4                      False                False       False       False   \n",
      "...                      ...                  ...         ...         ...   \n",
      "2155                   False                False       False       False   \n",
      "2156                   False                False       False       False   \n",
      "2157                   False                False       False       False   \n",
      "2158                   False                False       False       False   \n",
      "2159                   False                False       False       False   \n",
      "\n",
      "      GPU_T 2000  GPU_T 500  GPU_T 550  GPU_T 600  \n",
      "0          False      False      False      False  \n",
      "1          False      False      False      False  \n",
      "2          False      False      False      False  \n",
      "3          False      False      False      False  \n",
      "4          False      False      False      False  \n",
      "...          ...        ...        ...        ...  \n",
      "2155       False      False      False      False  \n",
      "2156       False      False      False      False  \n",
      "2157       False      False      False      False  \n",
      "2158       False      False      False      False  \n",
      "2159       False      False      False      False  \n",
      "\n",
      "[2118 rows x 228 columns]\n"
     ]
    }
   ]
  },
  {
   "cell_type": "code",
   "source": [
    "datos_codificados"
   ],
   "metadata": {
    "colab": {
     "base_uri": "https://localhost:8080/",
     "height": 826
    },
    "id": "X3eOH2e-O7Zo",
    "executionInfo": {
     "status": "ok",
     "timestamp": 1696002998894,
     "user_tz": 180,
     "elapsed": 460,
     "user": {
      "displayName": "Matias Emmanuel Galizio",
      "userId": "06466196033861267683"
     }
    },
    "outputId": "4e6eacfc-b6d7-43a9-a64e-f4a2baf28532"
   },
   "execution_count": 12,
   "outputs": [
    {
     "data": {
      "text/plain": "                                                 Laptop       Status  RAM  \\\n0     ASUS ExpertBook B1 B1502CBA-EJ0436X Intel Core...          New    8   \n1     Alurin Go Start Intel Celeron N4020/8GB/256GB ...          New    8   \n2     ASUS ExpertBook B1 B1502CBA-EJ0424X Intel Core...          New    8   \n3     MSI Katana GF66 12UC-082XES Intel Core i7-1270...          New   16   \n4     HP 15S-FQ5085NS Intel Core i5-1235U/16GB/512GB...          New   16   \n...                                                 ...          ...  ...   \n2155  Razer Blade 17 FHD 360Hz Intel Core i7-11800H/...  Refurbished   16   \n2156  Razer Blade 17 FHD 360Hz Intel Core i7-11800H/...  Refurbished   16   \n2157  Razer Blade 17 FHD 360Hz Intel Core i7-11800H/...  Refurbished   32   \n2158  Razer Book 13 Intel Evo Core i7-1165G7/16GB/1T...  Refurbished   16   \n2159  Razer Book FHD+ Intel Evo Core i7-1165G7/16GB/...  Refurbished   16   \n\n      Storage  Screen  Final Price  Brand_Acer  Brand_Alurin  Brand_Apple  \\\n0         512    15.6      1009.00       False         False        False   \n1         256    15.6       299.00       False          True        False   \n2         256    15.6       789.00       False         False        False   \n3        1000    15.6      1199.00       False         False        False   \n4         512    15.6       669.01       False         False        False   \n...       ...     ...          ...         ...           ...          ...   \n2155     1000    17.3      2699.99       False         False        False   \n2156     1000    17.3      2899.99       False         False        False   \n2157     1000    17.3      3399.99       False         False        False   \n2158     1000    13.4      1899.99       False         False        False   \n2159      256    13.4      1699.99       False         False        False   \n\n      Brand_Asus  ...  GPU_Radeon Pro 5300M  GPU_Radeon Pro 5500M  \\\n0           True  ...                 False                 False   \n1          False  ...                 False                 False   \n2           True  ...                 False                 False   \n3          False  ...                 False                 False   \n4          False  ...                 False                 False   \n...          ...  ...                   ...                   ...   \n2155       False  ...                 False                 False   \n2156       False  ...                 False                 False   \n2157       False  ...                 False                 False   \n2158       False  ...                 False                 False   \n2159       False  ...                 False                 False   \n\n      GPU_Radeon Pro RX 560X  GPU_Radeon RX 6600M  GPU_T 1000  GPU_T 1200  \\\n0                      False                False       False       False   \n1                      False                False       False       False   \n2                      False                False       False       False   \n3                      False                False       False       False   \n4                      False                False       False       False   \n...                      ...                  ...         ...         ...   \n2155                   False                False       False       False   \n2156                   False                False       False       False   \n2157                   False                False       False       False   \n2158                   False                False       False       False   \n2159                   False                False       False       False   \n\n      GPU_T 2000  GPU_T 500  GPU_T 550  GPU_T 600  \n0          False      False      False      False  \n1          False      False      False      False  \n2          False      False      False      False  \n3          False      False      False      False  \n4          False      False      False      False  \n...          ...        ...        ...        ...  \n2155       False      False      False      False  \n2156       False      False      False      False  \n2157       False      False      False      False  \n2158       False      False      False      False  \n2159       False      False      False      False  \n\n[2118 rows x 228 columns]",
      "text/html": "<div>\n<style scoped>\n    .dataframe tbody tr th:only-of-type {\n        vertical-align: middle;\n    }\n\n    .dataframe tbody tr th {\n        vertical-align: top;\n    }\n\n    .dataframe thead th {\n        text-align: right;\n    }\n</style>\n<table border=\"1\" class=\"dataframe\">\n  <thead>\n    <tr style=\"text-align: right;\">\n      <th></th>\n      <th>Laptop</th>\n      <th>Status</th>\n      <th>RAM</th>\n      <th>Storage</th>\n      <th>Screen</th>\n      <th>Final Price</th>\n      <th>Brand_Acer</th>\n      <th>Brand_Alurin</th>\n      <th>Brand_Apple</th>\n      <th>Brand_Asus</th>\n      <th>...</th>\n      <th>GPU_Radeon Pro 5300M</th>\n      <th>GPU_Radeon Pro 5500M</th>\n      <th>GPU_Radeon Pro RX 560X</th>\n      <th>GPU_Radeon RX 6600M</th>\n      <th>GPU_T 1000</th>\n      <th>GPU_T 1200</th>\n      <th>GPU_T 2000</th>\n      <th>GPU_T 500</th>\n      <th>GPU_T 550</th>\n      <th>GPU_T 600</th>\n    </tr>\n  </thead>\n  <tbody>\n    <tr>\n      <th>0</th>\n      <td>ASUS ExpertBook B1 B1502CBA-EJ0436X Intel Core...</td>\n      <td>New</td>\n      <td>8</td>\n      <td>512</td>\n      <td>15.6</td>\n      <td>1009.00</td>\n      <td>False</td>\n      <td>False</td>\n      <td>False</td>\n      <td>True</td>\n      <td>...</td>\n      <td>False</td>\n      <td>False</td>\n      <td>False</td>\n      <td>False</td>\n      <td>False</td>\n      <td>False</td>\n      <td>False</td>\n      <td>False</td>\n      <td>False</td>\n      <td>False</td>\n    </tr>\n    <tr>\n      <th>1</th>\n      <td>Alurin Go Start Intel Celeron N4020/8GB/256GB ...</td>\n      <td>New</td>\n      <td>8</td>\n      <td>256</td>\n      <td>15.6</td>\n      <td>299.00</td>\n      <td>False</td>\n      <td>True</td>\n      <td>False</td>\n      <td>False</td>\n      <td>...</td>\n      <td>False</td>\n      <td>False</td>\n      <td>False</td>\n      <td>False</td>\n      <td>False</td>\n      <td>False</td>\n      <td>False</td>\n      <td>False</td>\n      <td>False</td>\n      <td>False</td>\n    </tr>\n    <tr>\n      <th>2</th>\n      <td>ASUS ExpertBook B1 B1502CBA-EJ0424X Intel Core...</td>\n      <td>New</td>\n      <td>8</td>\n      <td>256</td>\n      <td>15.6</td>\n      <td>789.00</td>\n      <td>False</td>\n      <td>False</td>\n      <td>False</td>\n      <td>True</td>\n      <td>...</td>\n      <td>False</td>\n      <td>False</td>\n      <td>False</td>\n      <td>False</td>\n      <td>False</td>\n      <td>False</td>\n      <td>False</td>\n      <td>False</td>\n      <td>False</td>\n      <td>False</td>\n    </tr>\n    <tr>\n      <th>3</th>\n      <td>MSI Katana GF66 12UC-082XES Intel Core i7-1270...</td>\n      <td>New</td>\n      <td>16</td>\n      <td>1000</td>\n      <td>15.6</td>\n      <td>1199.00</td>\n      <td>False</td>\n      <td>False</td>\n      <td>False</td>\n      <td>False</td>\n      <td>...</td>\n      <td>False</td>\n      <td>False</td>\n      <td>False</td>\n      <td>False</td>\n      <td>False</td>\n      <td>False</td>\n      <td>False</td>\n      <td>False</td>\n      <td>False</td>\n      <td>False</td>\n    </tr>\n    <tr>\n      <th>4</th>\n      <td>HP 15S-FQ5085NS Intel Core i5-1235U/16GB/512GB...</td>\n      <td>New</td>\n      <td>16</td>\n      <td>512</td>\n      <td>15.6</td>\n      <td>669.01</td>\n      <td>False</td>\n      <td>False</td>\n      <td>False</td>\n      <td>False</td>\n      <td>...</td>\n      <td>False</td>\n      <td>False</td>\n      <td>False</td>\n      <td>False</td>\n      <td>False</td>\n      <td>False</td>\n      <td>False</td>\n      <td>False</td>\n      <td>False</td>\n      <td>False</td>\n    </tr>\n    <tr>\n      <th>...</th>\n      <td>...</td>\n      <td>...</td>\n      <td>...</td>\n      <td>...</td>\n      <td>...</td>\n      <td>...</td>\n      <td>...</td>\n      <td>...</td>\n      <td>...</td>\n      <td>...</td>\n      <td>...</td>\n      <td>...</td>\n      <td>...</td>\n      <td>...</td>\n      <td>...</td>\n      <td>...</td>\n      <td>...</td>\n      <td>...</td>\n      <td>...</td>\n      <td>...</td>\n      <td>...</td>\n    </tr>\n    <tr>\n      <th>2155</th>\n      <td>Razer Blade 17 FHD 360Hz Intel Core i7-11800H/...</td>\n      <td>Refurbished</td>\n      <td>16</td>\n      <td>1000</td>\n      <td>17.3</td>\n      <td>2699.99</td>\n      <td>False</td>\n      <td>False</td>\n      <td>False</td>\n      <td>False</td>\n      <td>...</td>\n      <td>False</td>\n      <td>False</td>\n      <td>False</td>\n      <td>False</td>\n      <td>False</td>\n      <td>False</td>\n      <td>False</td>\n      <td>False</td>\n      <td>False</td>\n      <td>False</td>\n    </tr>\n    <tr>\n      <th>2156</th>\n      <td>Razer Blade 17 FHD 360Hz Intel Core i7-11800H/...</td>\n      <td>Refurbished</td>\n      <td>16</td>\n      <td>1000</td>\n      <td>17.3</td>\n      <td>2899.99</td>\n      <td>False</td>\n      <td>False</td>\n      <td>False</td>\n      <td>False</td>\n      <td>...</td>\n      <td>False</td>\n      <td>False</td>\n      <td>False</td>\n      <td>False</td>\n      <td>False</td>\n      <td>False</td>\n      <td>False</td>\n      <td>False</td>\n      <td>False</td>\n      <td>False</td>\n    </tr>\n    <tr>\n      <th>2157</th>\n      <td>Razer Blade 17 FHD 360Hz Intel Core i7-11800H/...</td>\n      <td>Refurbished</td>\n      <td>32</td>\n      <td>1000</td>\n      <td>17.3</td>\n      <td>3399.99</td>\n      <td>False</td>\n      <td>False</td>\n      <td>False</td>\n      <td>False</td>\n      <td>...</td>\n      <td>False</td>\n      <td>False</td>\n      <td>False</td>\n      <td>False</td>\n      <td>False</td>\n      <td>False</td>\n      <td>False</td>\n      <td>False</td>\n      <td>False</td>\n      <td>False</td>\n    </tr>\n    <tr>\n      <th>2158</th>\n      <td>Razer Book 13 Intel Evo Core i7-1165G7/16GB/1T...</td>\n      <td>Refurbished</td>\n      <td>16</td>\n      <td>1000</td>\n      <td>13.4</td>\n      <td>1899.99</td>\n      <td>False</td>\n      <td>False</td>\n      <td>False</td>\n      <td>False</td>\n      <td>...</td>\n      <td>False</td>\n      <td>False</td>\n      <td>False</td>\n      <td>False</td>\n      <td>False</td>\n      <td>False</td>\n      <td>False</td>\n      <td>False</td>\n      <td>False</td>\n      <td>False</td>\n    </tr>\n    <tr>\n      <th>2159</th>\n      <td>Razer Book FHD+ Intel Evo Core i7-1165G7/16GB/...</td>\n      <td>Refurbished</td>\n      <td>16</td>\n      <td>256</td>\n      <td>13.4</td>\n      <td>1699.99</td>\n      <td>False</td>\n      <td>False</td>\n      <td>False</td>\n      <td>False</td>\n      <td>...</td>\n      <td>False</td>\n      <td>False</td>\n      <td>False</td>\n      <td>False</td>\n      <td>False</td>\n      <td>False</td>\n      <td>False</td>\n      <td>False</td>\n      <td>False</td>\n      <td>False</td>\n    </tr>\n  </tbody>\n</table>\n<p>2118 rows × 228 columns</p>\n</div>"
     },
     "execution_count": 12,
     "metadata": {},
     "output_type": "execute_result"
    }
   ]
  },
  {
   "cell_type": "markdown",
   "source": [
    "❤\n",
    "### Explicación, justificación y conclusiones de las actividades desarrolladas en la sección"
   ],
   "metadata": {
    "id": "5tQxmhCa-kXV"
   }
  },
  {
   "cell_type": "markdown",
   "source": [],
   "metadata": {
    "id": "tsyht1_S-kaf"
   }
  },
  {
   "cell_type": "markdown",
   "source": [
    "## Extracción de características\n",
    "\n",
    "Elección de atributos, reducción de la dimensión, creación de nuevos atributos y/o lo que consideren necesario."
   ],
   "metadata": {
    "id": "8aEMTkWmL20r"
   }
  },
  {
   "cell_type": "code",
   "source": [
    "df_datos_codificados = datos_codificados.drop(columns=[\"Laptop\", \"Status\", \"Storage\", \"Screen\", \"Final Price\"])\n",
    "df_datos_codificados"
   ],
   "metadata": {
    "id": "zl9JPWlVMr4D",
    "colab": {
     "base_uri": "https://localhost:8080/",
     "height": 478
    },
    "executionInfo": {
     "status": "ok",
     "timestamp": 1696003002146,
     "user_tz": 180,
     "elapsed": 416,
     "user": {
      "displayName": "Matias Emmanuel Galizio",
      "userId": "06466196033861267683"
     }
    },
    "outputId": "0bdbf9a0-c17a-4614-ee9b-8ce2eee71b2d"
   },
   "execution_count": 13,
   "outputs": [
    {
     "data": {
      "text/plain": "      RAM  Brand_Acer  Brand_Alurin  Brand_Apple  Brand_Asus  \\\n0       8       False         False        False        True   \n1       8       False          True        False       False   \n2       8       False         False        False        True   \n3      16       False         False        False       False   \n4      16       False         False        False       False   \n...   ...         ...           ...          ...         ...   \n2155   16       False         False        False       False   \n2156   16       False         False        False       False   \n2157   32       False         False        False       False   \n2158   16       False         False        False       False   \n2159   16       False         False        False       False   \n\n      Brand_Deep Gaming  Brand_Dell  Brand_Denver  Brand_Dynabook Toshiba  \\\n0                 False       False         False                   False   \n1                 False       False         False                   False   \n2                 False       False         False                   False   \n3                 False       False         False                   False   \n4                 False       False         False                   False   \n...                 ...         ...           ...                     ...   \n2155              False       False         False                   False   \n2156              False       False         False                   False   \n2157              False       False         False                   False   \n2158              False       False         False                   False   \n2159              False       False         False                   False   \n\n      Brand_Gigabyte  ...  GPU_Radeon Pro 5300M  GPU_Radeon Pro 5500M  \\\n0              False  ...                 False                 False   \n1              False  ...                 False                 False   \n2              False  ...                 False                 False   \n3              False  ...                 False                 False   \n4              False  ...                 False                 False   \n...              ...  ...                   ...                   ...   \n2155           False  ...                 False                 False   \n2156           False  ...                 False                 False   \n2157           False  ...                 False                 False   \n2158           False  ...                 False                 False   \n2159           False  ...                 False                 False   \n\n      GPU_Radeon Pro RX 560X  GPU_Radeon RX 6600M  GPU_T 1000  GPU_T 1200  \\\n0                      False                False       False       False   \n1                      False                False       False       False   \n2                      False                False       False       False   \n3                      False                False       False       False   \n4                      False                False       False       False   \n...                      ...                  ...         ...         ...   \n2155                   False                False       False       False   \n2156                   False                False       False       False   \n2157                   False                False       False       False   \n2158                   False                False       False       False   \n2159                   False                False       False       False   \n\n      GPU_T 2000  GPU_T 500  GPU_T 550  GPU_T 600  \n0          False      False      False      False  \n1          False      False      False      False  \n2          False      False      False      False  \n3          False      False      False      False  \n4          False      False      False      False  \n...          ...        ...        ...        ...  \n2155       False      False      False      False  \n2156       False      False      False      False  \n2157       False      False      False      False  \n2158       False      False      False      False  \n2159       False      False      False      False  \n\n[2118 rows x 223 columns]",
      "text/html": "<div>\n<style scoped>\n    .dataframe tbody tr th:only-of-type {\n        vertical-align: middle;\n    }\n\n    .dataframe tbody tr th {\n        vertical-align: top;\n    }\n\n    .dataframe thead th {\n        text-align: right;\n    }\n</style>\n<table border=\"1\" class=\"dataframe\">\n  <thead>\n    <tr style=\"text-align: right;\">\n      <th></th>\n      <th>RAM</th>\n      <th>Brand_Acer</th>\n      <th>Brand_Alurin</th>\n      <th>Brand_Apple</th>\n      <th>Brand_Asus</th>\n      <th>Brand_Deep Gaming</th>\n      <th>Brand_Dell</th>\n      <th>Brand_Denver</th>\n      <th>Brand_Dynabook Toshiba</th>\n      <th>Brand_Gigabyte</th>\n      <th>...</th>\n      <th>GPU_Radeon Pro 5300M</th>\n      <th>GPU_Radeon Pro 5500M</th>\n      <th>GPU_Radeon Pro RX 560X</th>\n      <th>GPU_Radeon RX 6600M</th>\n      <th>GPU_T 1000</th>\n      <th>GPU_T 1200</th>\n      <th>GPU_T 2000</th>\n      <th>GPU_T 500</th>\n      <th>GPU_T 550</th>\n      <th>GPU_T 600</th>\n    </tr>\n  </thead>\n  <tbody>\n    <tr>\n      <th>0</th>\n      <td>8</td>\n      <td>False</td>\n      <td>False</td>\n      <td>False</td>\n      <td>True</td>\n      <td>False</td>\n      <td>False</td>\n      <td>False</td>\n      <td>False</td>\n      <td>False</td>\n      <td>...</td>\n      <td>False</td>\n      <td>False</td>\n      <td>False</td>\n      <td>False</td>\n      <td>False</td>\n      <td>False</td>\n      <td>False</td>\n      <td>False</td>\n      <td>False</td>\n      <td>False</td>\n    </tr>\n    <tr>\n      <th>1</th>\n      <td>8</td>\n      <td>False</td>\n      <td>True</td>\n      <td>False</td>\n      <td>False</td>\n      <td>False</td>\n      <td>False</td>\n      <td>False</td>\n      <td>False</td>\n      <td>False</td>\n      <td>...</td>\n      <td>False</td>\n      <td>False</td>\n      <td>False</td>\n      <td>False</td>\n      <td>False</td>\n      <td>False</td>\n      <td>False</td>\n      <td>False</td>\n      <td>False</td>\n      <td>False</td>\n    </tr>\n    <tr>\n      <th>2</th>\n      <td>8</td>\n      <td>False</td>\n      <td>False</td>\n      <td>False</td>\n      <td>True</td>\n      <td>False</td>\n      <td>False</td>\n      <td>False</td>\n      <td>False</td>\n      <td>False</td>\n      <td>...</td>\n      <td>False</td>\n      <td>False</td>\n      <td>False</td>\n      <td>False</td>\n      <td>False</td>\n      <td>False</td>\n      <td>False</td>\n      <td>False</td>\n      <td>False</td>\n      <td>False</td>\n    </tr>\n    <tr>\n      <th>3</th>\n      <td>16</td>\n      <td>False</td>\n      <td>False</td>\n      <td>False</td>\n      <td>False</td>\n      <td>False</td>\n      <td>False</td>\n      <td>False</td>\n      <td>False</td>\n      <td>False</td>\n      <td>...</td>\n      <td>False</td>\n      <td>False</td>\n      <td>False</td>\n      <td>False</td>\n      <td>False</td>\n      <td>False</td>\n      <td>False</td>\n      <td>False</td>\n      <td>False</td>\n      <td>False</td>\n    </tr>\n    <tr>\n      <th>4</th>\n      <td>16</td>\n      <td>False</td>\n      <td>False</td>\n      <td>False</td>\n      <td>False</td>\n      <td>False</td>\n      <td>False</td>\n      <td>False</td>\n      <td>False</td>\n      <td>False</td>\n      <td>...</td>\n      <td>False</td>\n      <td>False</td>\n      <td>False</td>\n      <td>False</td>\n      <td>False</td>\n      <td>False</td>\n      <td>False</td>\n      <td>False</td>\n      <td>False</td>\n      <td>False</td>\n    </tr>\n    <tr>\n      <th>...</th>\n      <td>...</td>\n      <td>...</td>\n      <td>...</td>\n      <td>...</td>\n      <td>...</td>\n      <td>...</td>\n      <td>...</td>\n      <td>...</td>\n      <td>...</td>\n      <td>...</td>\n      <td>...</td>\n      <td>...</td>\n      <td>...</td>\n      <td>...</td>\n      <td>...</td>\n      <td>...</td>\n      <td>...</td>\n      <td>...</td>\n      <td>...</td>\n      <td>...</td>\n      <td>...</td>\n    </tr>\n    <tr>\n      <th>2155</th>\n      <td>16</td>\n      <td>False</td>\n      <td>False</td>\n      <td>False</td>\n      <td>False</td>\n      <td>False</td>\n      <td>False</td>\n      <td>False</td>\n      <td>False</td>\n      <td>False</td>\n      <td>...</td>\n      <td>False</td>\n      <td>False</td>\n      <td>False</td>\n      <td>False</td>\n      <td>False</td>\n      <td>False</td>\n      <td>False</td>\n      <td>False</td>\n      <td>False</td>\n      <td>False</td>\n    </tr>\n    <tr>\n      <th>2156</th>\n      <td>16</td>\n      <td>False</td>\n      <td>False</td>\n      <td>False</td>\n      <td>False</td>\n      <td>False</td>\n      <td>False</td>\n      <td>False</td>\n      <td>False</td>\n      <td>False</td>\n      <td>...</td>\n      <td>False</td>\n      <td>False</td>\n      <td>False</td>\n      <td>False</td>\n      <td>False</td>\n      <td>False</td>\n      <td>False</td>\n      <td>False</td>\n      <td>False</td>\n      <td>False</td>\n    </tr>\n    <tr>\n      <th>2157</th>\n      <td>32</td>\n      <td>False</td>\n      <td>False</td>\n      <td>False</td>\n      <td>False</td>\n      <td>False</td>\n      <td>False</td>\n      <td>False</td>\n      <td>False</td>\n      <td>False</td>\n      <td>...</td>\n      <td>False</td>\n      <td>False</td>\n      <td>False</td>\n      <td>False</td>\n      <td>False</td>\n      <td>False</td>\n      <td>False</td>\n      <td>False</td>\n      <td>False</td>\n      <td>False</td>\n    </tr>\n    <tr>\n      <th>2158</th>\n      <td>16</td>\n      <td>False</td>\n      <td>False</td>\n      <td>False</td>\n      <td>False</td>\n      <td>False</td>\n      <td>False</td>\n      <td>False</td>\n      <td>False</td>\n      <td>False</td>\n      <td>...</td>\n      <td>False</td>\n      <td>False</td>\n      <td>False</td>\n      <td>False</td>\n      <td>False</td>\n      <td>False</td>\n      <td>False</td>\n      <td>False</td>\n      <td>False</td>\n      <td>False</td>\n    </tr>\n    <tr>\n      <th>2159</th>\n      <td>16</td>\n      <td>False</td>\n      <td>False</td>\n      <td>False</td>\n      <td>False</td>\n      <td>False</td>\n      <td>False</td>\n      <td>False</td>\n      <td>False</td>\n      <td>False</td>\n      <td>...</td>\n      <td>False</td>\n      <td>False</td>\n      <td>False</td>\n      <td>False</td>\n      <td>False</td>\n      <td>False</td>\n      <td>False</td>\n      <td>False</td>\n      <td>False</td>\n      <td>False</td>\n    </tr>\n  </tbody>\n</table>\n<p>2118 rows × 223 columns</p>\n</div>"
     },
     "execution_count": 13,
     "metadata": {},
     "output_type": "execute_result"
    }
   ]
  },
  {
   "cell_type": "code",
   "source": [
    "df_datos_ram_cod = df_datos_codificados.copy()\n",
    "df_datos_ram_cod['RAM'] = df_datos_ram_cod['RAM'].apply(lambda ram: 1 if ram >= 16 else -1)\n",
    "df_datos_ram_cod"
   ],
   "metadata": {
    "colab": {
     "base_uri": "https://localhost:8080/",
     "height": 478
    },
    "id": "Y2ipt_lUnfry",
    "executionInfo": {
     "status": "ok",
     "timestamp": 1696003004363,
     "user_tz": 180,
     "elapsed": 6,
     "user": {
      "displayName": "Matias Emmanuel Galizio",
      "userId": "06466196033861267683"
     }
    },
    "outputId": "2d6c2425-5d31-487e-9e8d-6059235631b0"
   },
   "execution_count": 14,
   "outputs": [
    {
     "data": {
      "text/plain": "      RAM  Brand_Acer  Brand_Alurin  Brand_Apple  Brand_Asus  \\\n0      -1       False         False        False        True   \n1      -1       False          True        False       False   \n2      -1       False         False        False        True   \n3       1       False         False        False       False   \n4       1       False         False        False       False   \n...   ...         ...           ...          ...         ...   \n2155    1       False         False        False       False   \n2156    1       False         False        False       False   \n2157    1       False         False        False       False   \n2158    1       False         False        False       False   \n2159    1       False         False        False       False   \n\n      Brand_Deep Gaming  Brand_Dell  Brand_Denver  Brand_Dynabook Toshiba  \\\n0                 False       False         False                   False   \n1                 False       False         False                   False   \n2                 False       False         False                   False   \n3                 False       False         False                   False   \n4                 False       False         False                   False   \n...                 ...         ...           ...                     ...   \n2155              False       False         False                   False   \n2156              False       False         False                   False   \n2157              False       False         False                   False   \n2158              False       False         False                   False   \n2159              False       False         False                   False   \n\n      Brand_Gigabyte  ...  GPU_Radeon Pro 5300M  GPU_Radeon Pro 5500M  \\\n0              False  ...                 False                 False   \n1              False  ...                 False                 False   \n2              False  ...                 False                 False   \n3              False  ...                 False                 False   \n4              False  ...                 False                 False   \n...              ...  ...                   ...                   ...   \n2155           False  ...                 False                 False   \n2156           False  ...                 False                 False   \n2157           False  ...                 False                 False   \n2158           False  ...                 False                 False   \n2159           False  ...                 False                 False   \n\n      GPU_Radeon Pro RX 560X  GPU_Radeon RX 6600M  GPU_T 1000  GPU_T 1200  \\\n0                      False                False       False       False   \n1                      False                False       False       False   \n2                      False                False       False       False   \n3                      False                False       False       False   \n4                      False                False       False       False   \n...                      ...                  ...         ...         ...   \n2155                   False                False       False       False   \n2156                   False                False       False       False   \n2157                   False                False       False       False   \n2158                   False                False       False       False   \n2159                   False                False       False       False   \n\n      GPU_T 2000  GPU_T 500  GPU_T 550  GPU_T 600  \n0          False      False      False      False  \n1          False      False      False      False  \n2          False      False      False      False  \n3          False      False      False      False  \n4          False      False      False      False  \n...          ...        ...        ...        ...  \n2155       False      False      False      False  \n2156       False      False      False      False  \n2157       False      False      False      False  \n2158       False      False      False      False  \n2159       False      False      False      False  \n\n[2118 rows x 223 columns]",
      "text/html": "<div>\n<style scoped>\n    .dataframe tbody tr th:only-of-type {\n        vertical-align: middle;\n    }\n\n    .dataframe tbody tr th {\n        vertical-align: top;\n    }\n\n    .dataframe thead th {\n        text-align: right;\n    }\n</style>\n<table border=\"1\" class=\"dataframe\">\n  <thead>\n    <tr style=\"text-align: right;\">\n      <th></th>\n      <th>RAM</th>\n      <th>Brand_Acer</th>\n      <th>Brand_Alurin</th>\n      <th>Brand_Apple</th>\n      <th>Brand_Asus</th>\n      <th>Brand_Deep Gaming</th>\n      <th>Brand_Dell</th>\n      <th>Brand_Denver</th>\n      <th>Brand_Dynabook Toshiba</th>\n      <th>Brand_Gigabyte</th>\n      <th>...</th>\n      <th>GPU_Radeon Pro 5300M</th>\n      <th>GPU_Radeon Pro 5500M</th>\n      <th>GPU_Radeon Pro RX 560X</th>\n      <th>GPU_Radeon RX 6600M</th>\n      <th>GPU_T 1000</th>\n      <th>GPU_T 1200</th>\n      <th>GPU_T 2000</th>\n      <th>GPU_T 500</th>\n      <th>GPU_T 550</th>\n      <th>GPU_T 600</th>\n    </tr>\n  </thead>\n  <tbody>\n    <tr>\n      <th>0</th>\n      <td>-1</td>\n      <td>False</td>\n      <td>False</td>\n      <td>False</td>\n      <td>True</td>\n      <td>False</td>\n      <td>False</td>\n      <td>False</td>\n      <td>False</td>\n      <td>False</td>\n      <td>...</td>\n      <td>False</td>\n      <td>False</td>\n      <td>False</td>\n      <td>False</td>\n      <td>False</td>\n      <td>False</td>\n      <td>False</td>\n      <td>False</td>\n      <td>False</td>\n      <td>False</td>\n    </tr>\n    <tr>\n      <th>1</th>\n      <td>-1</td>\n      <td>False</td>\n      <td>True</td>\n      <td>False</td>\n      <td>False</td>\n      <td>False</td>\n      <td>False</td>\n      <td>False</td>\n      <td>False</td>\n      <td>False</td>\n      <td>...</td>\n      <td>False</td>\n      <td>False</td>\n      <td>False</td>\n      <td>False</td>\n      <td>False</td>\n      <td>False</td>\n      <td>False</td>\n      <td>False</td>\n      <td>False</td>\n      <td>False</td>\n    </tr>\n    <tr>\n      <th>2</th>\n      <td>-1</td>\n      <td>False</td>\n      <td>False</td>\n      <td>False</td>\n      <td>True</td>\n      <td>False</td>\n      <td>False</td>\n      <td>False</td>\n      <td>False</td>\n      <td>False</td>\n      <td>...</td>\n      <td>False</td>\n      <td>False</td>\n      <td>False</td>\n      <td>False</td>\n      <td>False</td>\n      <td>False</td>\n      <td>False</td>\n      <td>False</td>\n      <td>False</td>\n      <td>False</td>\n    </tr>\n    <tr>\n      <th>3</th>\n      <td>1</td>\n      <td>False</td>\n      <td>False</td>\n      <td>False</td>\n      <td>False</td>\n      <td>False</td>\n      <td>False</td>\n      <td>False</td>\n      <td>False</td>\n      <td>False</td>\n      <td>...</td>\n      <td>False</td>\n      <td>False</td>\n      <td>False</td>\n      <td>False</td>\n      <td>False</td>\n      <td>False</td>\n      <td>False</td>\n      <td>False</td>\n      <td>False</td>\n      <td>False</td>\n    </tr>\n    <tr>\n      <th>4</th>\n      <td>1</td>\n      <td>False</td>\n      <td>False</td>\n      <td>False</td>\n      <td>False</td>\n      <td>False</td>\n      <td>False</td>\n      <td>False</td>\n      <td>False</td>\n      <td>False</td>\n      <td>...</td>\n      <td>False</td>\n      <td>False</td>\n      <td>False</td>\n      <td>False</td>\n      <td>False</td>\n      <td>False</td>\n      <td>False</td>\n      <td>False</td>\n      <td>False</td>\n      <td>False</td>\n    </tr>\n    <tr>\n      <th>...</th>\n      <td>...</td>\n      <td>...</td>\n      <td>...</td>\n      <td>...</td>\n      <td>...</td>\n      <td>...</td>\n      <td>...</td>\n      <td>...</td>\n      <td>...</td>\n      <td>...</td>\n      <td>...</td>\n      <td>...</td>\n      <td>...</td>\n      <td>...</td>\n      <td>...</td>\n      <td>...</td>\n      <td>...</td>\n      <td>...</td>\n      <td>...</td>\n      <td>...</td>\n      <td>...</td>\n    </tr>\n    <tr>\n      <th>2155</th>\n      <td>1</td>\n      <td>False</td>\n      <td>False</td>\n      <td>False</td>\n      <td>False</td>\n      <td>False</td>\n      <td>False</td>\n      <td>False</td>\n      <td>False</td>\n      <td>False</td>\n      <td>...</td>\n      <td>False</td>\n      <td>False</td>\n      <td>False</td>\n      <td>False</td>\n      <td>False</td>\n      <td>False</td>\n      <td>False</td>\n      <td>False</td>\n      <td>False</td>\n      <td>False</td>\n    </tr>\n    <tr>\n      <th>2156</th>\n      <td>1</td>\n      <td>False</td>\n      <td>False</td>\n      <td>False</td>\n      <td>False</td>\n      <td>False</td>\n      <td>False</td>\n      <td>False</td>\n      <td>False</td>\n      <td>False</td>\n      <td>...</td>\n      <td>False</td>\n      <td>False</td>\n      <td>False</td>\n      <td>False</td>\n      <td>False</td>\n      <td>False</td>\n      <td>False</td>\n      <td>False</td>\n      <td>False</td>\n      <td>False</td>\n    </tr>\n    <tr>\n      <th>2157</th>\n      <td>1</td>\n      <td>False</td>\n      <td>False</td>\n      <td>False</td>\n      <td>False</td>\n      <td>False</td>\n      <td>False</td>\n      <td>False</td>\n      <td>False</td>\n      <td>False</td>\n      <td>...</td>\n      <td>False</td>\n      <td>False</td>\n      <td>False</td>\n      <td>False</td>\n      <td>False</td>\n      <td>False</td>\n      <td>False</td>\n      <td>False</td>\n      <td>False</td>\n      <td>False</td>\n    </tr>\n    <tr>\n      <th>2158</th>\n      <td>1</td>\n      <td>False</td>\n      <td>False</td>\n      <td>False</td>\n      <td>False</td>\n      <td>False</td>\n      <td>False</td>\n      <td>False</td>\n      <td>False</td>\n      <td>False</td>\n      <td>...</td>\n      <td>False</td>\n      <td>False</td>\n      <td>False</td>\n      <td>False</td>\n      <td>False</td>\n      <td>False</td>\n      <td>False</td>\n      <td>False</td>\n      <td>False</td>\n      <td>False</td>\n    </tr>\n    <tr>\n      <th>2159</th>\n      <td>1</td>\n      <td>False</td>\n      <td>False</td>\n      <td>False</td>\n      <td>False</td>\n      <td>False</td>\n      <td>False</td>\n      <td>False</td>\n      <td>False</td>\n      <td>False</td>\n      <td>...</td>\n      <td>False</td>\n      <td>False</td>\n      <td>False</td>\n      <td>False</td>\n      <td>False</td>\n      <td>False</td>\n      <td>False</td>\n      <td>False</td>\n      <td>False</td>\n      <td>False</td>\n    </tr>\n  </tbody>\n</table>\n<p>2118 rows × 223 columns</p>\n</div>"
     },
     "execution_count": 14,
     "metadata": {},
     "output_type": "execute_result"
    }
   ]
  },
  {
   "cell_type": "markdown",
   "source": [
    "### Explicación, justificación y conclusiones de las actividades desarrolladas en la sección\n",
    "\n",
    "## Ver bien tema de reducción de dimenciones (con scikit learn)"
   ],
   "metadata": {
    "id": "7lbgV_mu-mGk"
   }
  },
  {
   "cell_type": "markdown",
   "source": [],
   "metadata": {
    "id": "GZhiTbaq-mJY"
   }
  },
  {
   "cell_type": "markdown",
   "source": [
    "# Clasificación\n",
    "\n",
    "Utilizar por lo menos dos técnicas de clasificación"
   ],
   "metadata": {
    "id": "SOC_F46cMrLO"
   }
  },
  {
   "cell_type": "markdown",
   "source": [
    "## Ajuste de parámetros"
   ],
   "metadata": {
    "id": "6IgaeIZewQAJ"
   }
  },
  {
   "cell_type": "code",
   "source": [
    "\n",
    "# Gráfico de dispersión (scatter plot)\n",
    "#Ya no se puede usar por la codificación de las variables categóricas, se podría poner antes\n",
    "'''plt.figure(figsize=(12, 6))\n",
    "plt.scatter(df_datos_ram_cod[df_datos_ram_cod['RAM'] == -1]['Model'], df_datos_ram_cod[df_datos_ram_cod['RAM'] == -1]['CPU'], label='Menos 16 GB RAM', c='b', marker='o')\n",
    "plt.scatter(df_datos_ram_cod[df_datos_ram_cod['RAM'] == 1]['Model'], df_datos_ram_cod[df_datos_ram_cod['RAM'] == 1]['CPU'], label='16 GB o más de RAM', c='r', marker='x')\n",
    "plt.xlabel('Model')\n",
    "plt.ylabel('CPU')\n",
    "plt.title('Gráfico de dispersión de Model y CPU según Ram')\n",
    "plt.legend()\n",
    "plt.show()'''\n",
    "\n"
   ],
   "metadata": {
    "id": "XeZ-thVPLbg6",
    "colab": {
     "base_uri": "https://localhost:8080/",
     "height": 70
    },
    "executionInfo": {
     "status": "ok",
     "timestamp": 1696002631404,
     "user_tz": 180,
     "elapsed": 5,
     "user": {
      "displayName": "Matias Emmanuel Galizio",
      "userId": "06466196033861267683"
     }
    },
    "outputId": "4b45b129-e438-4768-d6c7-a7c0ddef968a"
   },
   "execution_count": 15,
   "outputs": [
    {
     "data": {
      "text/plain": "\"plt.figure(figsize=(12, 6))\\nplt.scatter(df_datos_ram_cod[df_datos_ram_cod['RAM'] == -1]['Model'], df_datos_ram_cod[df_datos_ram_cod['RAM'] == -1]['CPU'], label='Menos 16 GB RAM', c='b', marker='o')\\nplt.scatter(df_datos_ram_cod[df_datos_ram_cod['RAM'] == 1]['Model'], df_datos_ram_cod[df_datos_ram_cod['RAM'] == 1]['CPU'], label='16 GB o más de RAM', c='r', marker='x')\\nplt.xlabel('Model')\\nplt.ylabel('CPU')\\nplt.title('Gráfico de dispersión de Model y CPU según Ram')\\nplt.legend()\\nplt.show()\""
     },
     "execution_count": 15,
     "metadata": {},
     "output_type": "execute_result"
    }
   ]
  },
  {
   "cell_type": "code",
   "source": [
    "'''from mpl_toolkits.mplot3d import Axes3D\n",
    "\n",
    "# Filtrar los datos por el valor de Ram (-1 o 1)\n",
    "ram_minus_1 = df_datos_ram_cod[df_datos_ram_cod['RAM'] == -1]\n",
    "ram_1 = df_datos_ram_cod[df_datos_ram_cod['RAM'] == 1]\n",
    "\n",
    "# Crear una figura 3D\n",
    "fig = plt.figure(figsize=(12, 10))\n",
    "ax = fig.add_subplot(111, projection='3d')\n",
    "\n",
    "# Agregar puntos de dispersión para Ram -1\n",
    "ax.scatter(ram_minus_1['Model'], ram_minus_1['CPU'], ram_minus_1['GPU'], c='b', marker='o', label='Menos de 16 GB de RAM')\n",
    "\n",
    "# Agregar puntos de dispersión para Ram 1\n",
    "ax.scatter(ram_1['Model'], ram_1['CPU'], ram_1['GPU'], c='r', marker='x', label='16 GB de RAM o más')\n",
    "\n",
    "ax.set_xlabel('Model')\n",
    "ax.set_ylabel('CPU')\n",
    "ax.set_zlabel('GPU')\n",
    "ax.set_title('Gráfico de dispersión tridimensional de Model, CPU y GPU según Ram')\n",
    "plt.legend()\n",
    "plt.show()'''"
   ],
   "metadata": {
    "colab": {
     "base_uri": "https://localhost:8080/",
     "height": 105
    },
    "id": "doPksGQvrKCv",
    "executionInfo": {
     "status": "ok",
     "timestamp": 1696002636368,
     "user_tz": 180,
     "elapsed": 475,
     "user": {
      "displayName": "Matias Emmanuel Galizio",
      "userId": "06466196033861267683"
     }
    },
    "outputId": "2f96bd59-2ea5-4ae0-f937-78b10d716e81"
   },
   "execution_count": 16,
   "outputs": [
    {
     "data": {
      "text/plain": "\"from mpl_toolkits.mplot3d import Axes3D\\n\\n# Filtrar los datos por el valor de Ram (-1 o 1)\\nram_minus_1 = df_datos_ram_cod[df_datos_ram_cod['RAM'] == -1]\\nram_1 = df_datos_ram_cod[df_datos_ram_cod['RAM'] == 1]\\n\\n# Crear una figura 3D\\nfig = plt.figure(figsize=(12, 10))\\nax = fig.add_subplot(111, projection='3d')\\n\\n# Agregar puntos de dispersión para Ram -1\\nax.scatter(ram_minus_1['Model'], ram_minus_1['CPU'], ram_minus_1['GPU'], c='b', marker='o', label='Menos de 16 GB de RAM')\\n\\n# Agregar puntos de dispersión para Ram 1\\nax.scatter(ram_1['Model'], ram_1['CPU'], ram_1['GPU'], c='r', marker='x', label='16 GB de RAM o más')\\n\\nax.set_xlabel('Model')\\nax.set_ylabel('CPU')\\nax.set_zlabel('GPU')\\nax.set_title('Gráfico de dispersión tridimensional de Model, CPU y GPU según Ram')\\nplt.legend()\\nplt.show()\""
     },
     "execution_count": 16,
     "metadata": {},
     "output_type": "execute_result"
    }
   ]
  },
  {
   "cell_type": "code",
   "source": [],
   "metadata": {
    "id": "3eZFAPPvpqym"
   },
   "execution_count": 16,
   "outputs": []
  },
  {
   "cell_type": "markdown",
   "source": [
    "### Prueba de Reducción de Dimensionalidad con todas las Catacterísticas (incluyendo RAM)"
   ],
   "metadata": {
    "id": "flV75mS0m9Qz"
   }
  },
  {
   "cell_type": "code",
   "source": [
    "#Reducción de Dimensionalidad\n",
    "#Es una prueba, después se debería eliminar\n",
    "#PCA\n",
    "from sklearn.decomposition import PCA\n",
    "import matplotlib.pyplot as plt\n",
    "\n",
    "df_prueba_fit = df_datos_ram_cod.copy()\n",
    "\n",
    "pca = PCA(n_components=2)\n",
    "pca.fit(df_prueba_fit)\n",
    "df_fit = pca.transform(df_prueba_fit)\n",
    "\n",
    "df_fit\n",
    "\n",
    "#plt.scatter(X[:,1],c=iris.target);"
   ],
   "metadata": {
    "colab": {
     "base_uri": "https://localhost:8080/"
    },
    "id": "x7YYmZTj5h7l",
    "executionInfo": {
     "status": "ok",
     "timestamp": 1696003476634,
     "user_tz": 180,
     "elapsed": 422,
     "user": {
      "displayName": "Matias Emmanuel Galizio",
      "userId": "06466196033861267683"
     }
    },
    "outputId": "70e8e51f-afaa-4b54-c8b2-78ed74f168db"
   },
   "execution_count": 17,
   "outputs": [
    {
     "data": {
      "text/plain": "array([[ 1.31747277,  0.46879744],\n       [ 1.25185377, -0.28299728],\n       [ 1.24055347,  0.06966534],\n       ...,\n       [-1.16104312, -0.45511065],\n       [-0.57415718,  0.91610982],\n       [-0.57415718,  0.91610982]])"
     },
     "execution_count": 17,
     "metadata": {},
     "output_type": "execute_result"
    }
   ]
  },
  {
   "cell_type": "markdown",
   "source": [
    "### Gráfico de dispersión teniendo en cuenta todas las características (No significativo para el análisis)"
   ],
   "metadata": {
    "collapsed": false
   }
  },
  {
   "cell_type": "code",
   "source": [
    "plt.figure(figsize=(10, 6))\n",
    "\n",
    "# Crear un gráfico de dispersión para Ram -1\n",
    "plt.scatter(df_fit[df_datos_ram_cod['RAM'] == -1][:, 0], df_fit[df_datos_ram_cod['RAM'] == -1][:, 1], c='b', label='Ram < 16 GB', cmap='coolwarm')\n",
    "\n",
    "# Crear un gráfico de dispersión para Ram 1\n",
    "plt.scatter(df_fit[df_datos_ram_cod['RAM'] == 1][:, 0], df_fit[df_datos_ram_cod['RAM'] == 1][:, 1], c='r', label='Ram >= 16 GB', cmap='coolwarm')\n",
    "\n",
    "plt.xlabel('Componente Principal 1')\n",
    "plt.ylabel('Componente Principal 2')\n",
    "plt.title('Gráfico de dispersión de los datos reducidos con PCA (2 componentes)')\n",
    "plt.legend()\n",
    "plt.show()"
   ],
   "metadata": {
    "id": "KgPqfWwJsanu",
    "executionInfo": {
     "status": "ok",
     "timestamp": 1696003802865,
     "user_tz": 180,
     "elapsed": 1278,
     "user": {
      "displayName": "Matias Emmanuel Galizio",
      "userId": "06466196033861267683"
     }
    },
    "outputId": "536ae8e6-b154-4357-aa80-8d0861759692",
    "colab": {
     "base_uri": "https://localhost:8080/",
     "height": 634
    }
   },
   "execution_count": 18,
   "outputs": [
    {
     "name": "stderr",
     "output_type": "stream",
     "text": [
      "C:\\Users\\emmag\\AppData\\Local\\Temp\\ipykernel_1784\\1959608285.py:4: UserWarning: No data for colormapping provided via 'c'. Parameters 'cmap' will be ignored\n",
      "  plt.scatter(df_fit[df_datos_ram_cod['RAM'] == -1][:, 0], df_fit[df_datos_ram_cod['RAM'] == -1][:, 1], c='b', label='Ram < 16 GB', cmap='coolwarm')\n",
      "C:\\Users\\emmag\\AppData\\Local\\Temp\\ipykernel_1784\\1959608285.py:7: UserWarning: No data for colormapping provided via 'c'. Parameters 'cmap' will be ignored\n",
      "  plt.scatter(df_fit[df_datos_ram_cod['RAM'] == 1][:, 0], df_fit[df_datos_ram_cod['RAM'] == 1][:, 1], c='r', label='Ram >= 16 GB', cmap='coolwarm')\n"
     ]
    },
    {
     "data": {
      "text/plain": "<Figure size 1000x600 with 1 Axes>",
      "image/png": "[encoded data removed]"
     },
     "metadata": {},
     "output_type": "display_data"
    }
   ]
  },
  {
   "cell_type": "markdown",
   "source": [
    "## Separación de datasets de prueba y validación"
   ],
   "metadata": {
    "id": "3lkbGMpKvwW9"
   }
  },
  {
   "cell_type": "code",
   "source": [
    "from sklearn.model_selection import train_test_split\n",
    "\n",
    "# Dividir el DataFrame en conjuntos de entrenamiento y validación de manera estratificada\n",
    "df_train, df_val = train_test_split(df_datos_ram_cod, test_size=0.25, random_state=42, stratify=df_datos_ram_cod['RAM'])\n",
    "\n",
    "# Separar los conjuntos de características (X) y la variable objetivo (Y) para entrenamiento\n",
    "X_train = df_train.drop('RAM', axis=1)\n",
    "y_train = df_train['RAM']\n",
    "\n",
    "# Separar los conjuntos de características (X) y la variable objetivo (Y) para validación\n",
    "X_val = df_val.drop('RAM', axis=1)\n",
    "y_val = df_val['RAM']\n"
   ],
   "metadata": {
    "id": "M4rko3liv2hD"
   },
   "execution_count": 19,
   "outputs": []
  },
  {
   "cell_type": "markdown",
   "source": [
    "### Separación de vectores de entrada y vector de salida"
   ],
   "metadata": {
    "collapsed": false
   }
  },
  {
   "cell_type": "code",
   "execution_count": 35,
   "outputs": [],
   "source": [
    "X = df_train.drop(columns='RAM')\n",
    "Y = df_train['RAM']"
   ],
   "metadata": {
    "collapsed": false
   }
  },
  {
   "cell_type": "code",
   "execution_count": 32,
   "outputs": [],
   "source": [
    "import numpy as np\n",
    "# Función para graficar la frontera de decisión\n",
    "def plot_2d_separator(classifier, X, fill=False, ax=None, eps=None):\n",
    "    if eps is None:\n",
    "        eps = X.std() / 2.\n",
    "    x_min, x_max = X[:, 0].min() - eps, X[:, 0].max() + eps\n",
    "    y_min, y_max = X[:, 1].min() - eps, X[:, 1].max() + eps\n",
    "    xx = np.linspace(x_min, x_max, 100)\n",
    "    yy = np.linspace(y_min, y_max, 100)\n",
    "\n",
    "    X1, X2 = np.meshgrid(xx, yy)\n",
    "    X_grid = np.c_[X1.ravel(), X2.ravel()]\n",
    "    try:\n",
    "        decision_values = classifier.decision_function(X_grid)\n",
    "        levels = [0]\n",
    "        fill_levels = [decision_values.min(), 0, decision_values.max()]\n",
    "    except AttributeError:\n",
    "        decision_values = classifier.predict_proba(X_grid)[:, 1]\n",
    "        levels = [.5]\n",
    "        fill_levels = [0, .5, 1]\n",
    "\n",
    "    if ax is None:\n",
    "        ax = plt.gca()\n",
    "    if fill:\n",
    "        ax.contourf(X1, X2, decision_values.reshape(X1.shape),\n",
    "                    levels=fill_levels, colors=['blue', 'red'])\n",
    "    else:\n",
    "        ax.contour(X1, X2, decision_values.reshape(X1.shape), levels=levels,\n",
    "                   colors=\"black\")\n",
    "    ax.set_xlim(x_min, x_max)\n",
    "    ax.set_ylim(y_min, y_max)\n",
    "    ax.set_xticks(())\n",
    "    ax.set_yticks(())"
   ],
   "metadata": {
    "collapsed": false
   }
  },
  {
   "cell_type": "markdown",
   "source": [
    "## Reducción de dimensionalidad de vectores de entradas y gráfico de dispersión de datos de entrenamiento"
   ],
   "metadata": {
    "collapsed": false
   }
  },
  {
   "cell_type": "code",
   "execution_count": 36,
   "outputs": [],
   "source": [
    "pca = PCA(n_components=2)\n",
    "pca.fit(X)\n",
    "X_reduced = pca.transform(X)"
   ],
   "metadata": {
    "collapsed": false
   }
  },
  {
   "cell_type": "markdown",
   "source": [
    "#### Gráfico de dispersión de los datos clasificados por RAM, sin tener en cuenta esa columna para la reducción de dimensionalidad"
   ],
   "metadata": {
    "collapsed": false
   }
  },
  {
   "cell_type": "code",
   "execution_count": 37,
   "outputs": [
    {
     "data": {
      "text/plain": "<Figure size 800x600 with 1 Axes>",
      "image/png": "[encoded data removed]"
     },
     "metadata": {},
     "output_type": "display_data"
    }
   ],
   "source": [
    "plt.figure(figsize=(8, 6))\n",
    "plt.scatter(X_reduced[Y == -1][:, 0], X_reduced[Y == -1][:, 1], c='b', label='Ram -1')\n",
    "plt.scatter(X_reduced[Y == 1][:, 0], X_reduced[Y == 1][:, 1], c='r', label='Ram 1')\n",
    "\n",
    "plt.xlabel('Componente Principal 1')\n",
    "plt.ylabel('Componente Principal 2')\n",
    "plt.title('Gráfico de Dispersión de Características Reducidas por Ram')\n",
    "plt.legend()\n",
    "plt.show()"
   ],
   "metadata": {
    "collapsed": false
   }
  },
  {
   "cell_type": "markdown",
   "source": [
    "# Clasificación"
   ],
   "metadata": {
    "collapsed": false
   }
  },
  {
   "cell_type": "markdown",
   "source": [
    "## Primer clasificador: Máquina de Vectores de Soporte\n",
    "\n",
    "Utiliza un kernel lineal para separar las clases, se intentó con un kernel lineal pero dio mejores resultados la función radial"
   ],
   "metadata": {
    "collapsed": false
   }
  },
  {
   "cell_type": "code",
   "execution_count": 40,
   "outputs": [
    {
     "data": {
      "text/plain": "SVC()",
      "text/html": "<style>#sk-container-id-3 {color: black;}#sk-container-id-3 pre{padding: 0;}#sk-container-id-3 div.sk-toggleable {background-color: white;}#sk-container-id-3 label.sk-toggleable__label {cursor: pointer;display: block;width: 100%;margin-bottom: 0;padding: 0.3em;box-sizing: border-box;text-align: center;}#sk-container-id-3 label.sk-toggleable__label-arrow:before {content: \"▸\";float: left;margin-right: 0.25em;color: #696969;}#sk-container-id-3 label.sk-toggleable__label-arrow:hover:before {color: black;}#sk-container-id-3 div.sk-estimator:hover label.sk-toggleable__label-arrow:before {color: black;}#sk-container-id-3 div.sk-toggleable__content {max-height: 0;max-width: 0;overflow: hidden;text-align: left;background-color: #f0f8ff;}#sk-container-id-3 div.sk-toggleable__content pre {margin: 0.2em;color: black;border-radius: 0.25em;background-color: #f0f8ff;}#sk-container-id-3 input.sk-toggleable__control:checked~div.sk-toggleable__content {max-height: 200px;max-width: 100%;overflow: auto;}#sk-container-id-3 input.sk-toggleable__control:checked~label.sk-toggleable__label-arrow:before {content: \"▾\";}#sk-container-id-3 div.sk-estimator input.sk-toggleable__control:checked~label.sk-toggleable__label {background-color: #d4ebff;}#sk-container-id-3 div.sk-label input.sk-toggleable__control:checked~label.sk-toggleable__label {background-color: #d4ebff;}#sk-container-id-3 input.sk-hidden--visually {border: 0;clip: rect(1px 1px 1px 1px);clip: rect(1px, 1px, 1px, 1px);height: 1px;margin: -1px;overflow: hidden;padding: 0;position: absolute;width: 1px;}#sk-container-id-3 div.sk-estimator {font-family: monospace;background-color: #f0f8ff;border: 1px dotted black;border-radius: 0.25em;box-sizing: border-box;margin-bottom: 0.5em;}#sk-container-id-3 div.sk-estimator:hover {background-color: #d4ebff;}#sk-container-id-3 div.sk-parallel-item::after {content: \"\";width: 100%;border-bottom: 1px solid gray;flex-grow: 1;}#sk-container-id-3 div.sk-label:hover label.sk-toggleable__label {background-color: #d4ebff;}#sk-container-id-3 div.sk-serial::before {content: \"\";position: absolute;border-left: 1px solid gray;box-sizing: border-box;top: 0;bottom: 0;left: 50%;z-index: 0;}#sk-container-id-3 div.sk-serial {display: flex;flex-direction: column;align-items: center;background-color: white;padding-right: 0.2em;padding-left: 0.2em;position: relative;}#sk-container-id-3 div.sk-item {position: relative;z-index: 1;}#sk-container-id-3 div.sk-parallel {display: flex;align-items: stretch;justify-content: center;background-color: white;position: relative;}#sk-container-id-3 div.sk-item::before, #sk-container-id-3 div.sk-parallel-item::before {content: \"\";position: absolute;border-left: 1px solid gray;box-sizing: border-box;top: 0;bottom: 0;left: 50%;z-index: -1;}#sk-container-id-3 div.sk-parallel-item {display: flex;flex-direction: column;z-index: 1;position: relative;background-color: white;}#sk-container-id-3 div.sk-parallel-item:first-child::after {align-self: flex-end;width: 50%;}#sk-container-id-3 div.sk-parallel-item:last-child::after {align-self: flex-start;width: 50%;}#sk-container-id-3 div.sk-parallel-item:only-child::after {width: 0;}#sk-container-id-3 div.sk-dashed-wrapped {border: 1px dashed gray;margin: 0 0.4em 0.5em 0.4em;box-sizing: border-box;padding-bottom: 0.4em;background-color: white;}#sk-container-id-3 div.sk-label label {font-family: monospace;font-weight: bold;display: inline-block;line-height: 1.2em;}#sk-container-id-3 div.sk-label-container {text-align: center;}#sk-container-id-3 div.sk-container {/* jupyter's `normalize.less` sets `[hidden] { display: none; }` but bootstrap.min.css set `[hidden] { display: none !important; }` so we also need the `!important` here to be able to override the default hidden behavior on the sphinx rendered scikit-learn.org. See: https://github.com/scikit-learn/scikit-learn/issues/21755 */display: inline-block !important;position: relative;}#sk-container-id-3 div.sk-text-repr-fallback {display: none;}</style><div id=\"sk-container-id-3\" class=\"sk-top-container\"><div class=\"sk-text-repr-fallback\"><pre>SVC()</pre><b>In a Jupyter environment, please rerun this cell to show the HTML representation or trust the notebook. <br />On GitHub, the HTML representation is unable to render, please try loading this page with nbviewer.org.</b></div><div class=\"sk-container\" hidden><div class=\"sk-item\"><div class=\"sk-estimator sk-toggleable\"><input class=\"sk-toggleable__control sk-hidden--visually\" id=\"sk-estimator-id-3\" type=\"checkbox\" checked><label for=\"sk-estimator-id-3\" class=\"sk-toggleable__label sk-toggleable__label-arrow\">SVC</label><div class=\"sk-toggleable__content\"><pre>SVC()</pre></div></div></div></div></div>"
     },
     "execution_count": 40,
     "metadata": {},
     "output_type": "execute_result"
    }
   ],
   "source": [
    "from sklearn.svm import SVC\n",
    "\n",
    "svc = SVC(kernel='rbf')\n",
    "\n",
    "# Entrenar el modelo en las características reducidas X_reduced y la variable objetivo Y\n",
    "svc.fit(X_reduced, Y)\n",
    "#plt.scatter(x[y == 0, 0], x[y == 0, 1], c='blue', s=40, label='0')\n",
    "#plt.scatter(x[y == 1, 0], x[y == 1, 1], c='red', s=40, label='1', marker='s')\n",
    "#plt.xlabel(\"primera característica\")\n",
    "#plt.ylabel(\"segunda característica\")\n",
    "#plot_2d_separator(svc, x)\n",
    "#plt.legend(loc='upper right');"
   ],
   "metadata": {
    "collapsed": false
   }
  },
  {
   "cell_type": "markdown",
   "source": [
    "### Gráfico de dispersión con función de decisión"
   ],
   "metadata": {
    "collapsed": false
   }
  },
  {
   "cell_type": "code",
   "execution_count": 41,
   "outputs": [
    {
     "data": {
      "text/plain": "<Figure size 640x480 with 1 Axes>",
      "image/png": "[encoded data removed]"
     },
     "metadata": {},
     "output_type": "display_data"
    }
   ],
   "source": [
    "# Crear una malla de puntos para el gráfico de dispersión\n",
    "h = .02  # Tamaño de paso en la malla\n",
    "x_min, x_max = X_reduced[:, 0].min() - 1, X_reduced[:, 0].max() + 1\n",
    "y_min, y_max = X_reduced[:, 1].min() - 1, X_reduced[:, 1].max() + 1\n",
    "xx, yy = np.meshgrid(np.arange(x_min, x_max, h), np.arange(y_min, y_max, h))\n",
    "\n",
    "# Predecir la clase para cada punto en la malla\n",
    "Z = svc.predict(np.c_[xx.ravel(), yy.ravel()])\n",
    "Z = Z.reshape(xx.shape)\n",
    "\n",
    "# Graficar los puntos y la función de decisión\n",
    "plt.contourf(xx, yy, Z, cmap=plt.cm.coolwarm, alpha=0.8)\n",
    "plt.scatter(X_reduced[:, 0], X_reduced[:, 1], c=Y, cmap=plt.cm.coolwarm)\n",
    "plt.xlabel('Componente Principal 1')\n",
    "plt.ylabel('Componente Principal 2')\n",
    "plt.title('Clasificación SVM con Reducción de Dimensionalidad')\n",
    "plt.show()"
   ],
   "metadata": {
    "collapsed": false
   }
  },
  {
   "cell_type": "markdown",
   "source": [
    "### Explicación, justificación y conclusiones de las actividades desarrolladas en la sección"
   ],
   "metadata": {
    "id": "dgo7m2Y2-qr0"
   }
  },
  {
   "cell_type": "code",
   "execution_count": 42,
   "outputs": [
    {
     "name": "stdout",
     "output_type": "stream",
     "text": [
      "Precisión en los datos de entrenamiento: 0.80\n"
     ]
    }
   ],
   "source": [
    "from sklearn.metrics import accuracy_score\n",
    "\n",
    "# Realizar predicciones en los datos de entrenamiento\n",
    "predicciones_entrenamiento = svc.predict(X_reduced)\n",
    "\n",
    "# Calcular la precisión de las predicciones\n",
    "precision_entrenamiento = accuracy_score(Y, predicciones_entrenamiento)\n",
    "print(f'Precisión en los datos de entrenamiento: {precision_entrenamiento:.2f}')"
   ],
   "metadata": {
    "collapsed": false
   }
  },
  {
   "cell_type": "markdown",
   "source": [],
   "metadata": {
    "id": "D2PNqN2G-qvH"
   }
  },
  {
   "cell_type": "markdown",
   "source": [
    "Preparación de datos de validación"
   ],
   "metadata": {
    "collapsed": false
   }
  },
  {
   "cell_type": "code",
   "execution_count": 43,
   "outputs": [],
   "source": [
    "X_val = df_val.drop(columns='RAM')\n",
    "Y_val = df_val['RAM']\n",
    "\n",
    "pca_val = PCA(n_components=2)\n",
    "pca_val.fit(X_val)\n",
    "X_val_reduced = pca.transform(X_val)\n"
   ],
   "metadata": {
    "collapsed": false
   }
  },
  {
   "cell_type": "markdown",
   "source": [
    "Predicciones de validacion"
   ],
   "metadata": {
    "collapsed": false
   }
  },
  {
   "cell_type": "code",
   "execution_count": 44,
   "outputs": [],
   "source": [
    "predicciones_validacion = svc.predict(X_val_reduced)"
   ],
   "metadata": {
    "collapsed": false
   }
  },
  {
   "cell_type": "code",
   "execution_count": 45,
   "outputs": [
    {
     "name": "stdout",
     "output_type": "stream",
     "text": [
      "Precisión en los datos de validación: 0.81\n"
     ]
    }
   ],
   "source": [
    "precision_validacion = accuracy_score(Y_val, predicciones_validacion)\n",
    "print(f'Precisión en los datos de validación: {precision_validacion:.2f}')"
   ],
   "metadata": {
    "collapsed": false
   }
  },
  {
   "cell_type": "code",
   "execution_count": 52,
   "outputs": [
    {
     "name": "stdout",
     "output_type": "stream",
     "text": [
      "Cantidad de dato en X_train: (1588, 222)\n",
      "Decision: [ 1.09376313  1.17841791 -0.99955294 -1.0937508  -0.99800582  1.03043119\n",
      " -1.07426934 -0.92518809 -1.00010166 -1.04048715  1.00434352  1.01068082\n",
      "  1.35863524 -1.05960723 -0.91683386  1.06317811  1.00072279  1.36279439\n",
      " -1.09828636 -1.03121016 -1.00010166 -0.90680235 -0.9865208  -1.08209657\n",
      "  0.99968728  1.01312689  0.94255022 -1.02460104  1.09604283  0.77184343\n",
      "  1.00408357  0.99996928 -1.07096141  1.36279439  0.99193225 -1.02586032\n",
      "  1.02203743  0.99968728 -0.97782026  1.3308874  -1.0000212  -0.88044161\n",
      " -0.85223605 -1.00331676  1.05074267  1.02042105  1.00595115 -1.09842674\n",
      " -1.00011839 -0.99592682  1.0118528   1.06519868  0.99996928 -0.99987595\n",
      "  1.37192072  1.00760973 -0.93989194  1.01146286  0.99996928  1.37377778\n",
      "  1.10623656 -1.09842674  1.06429915  1.00422001 -0.73230158  1.36032354\n",
      " -0.77469792 -0.99592682 -0.60718966  1.00408357  1.11073884 -0.97440323\n",
      " -1.04048715 -1.00016066 -1.02460104  1.01315869  1.01335591  1.01312689\n",
      "  1.01400408 -1.03676313  0.9545069  -0.9906919   1.15962147 -0.8979381\n",
      "  1.00094059  0.75925303 -1.12997455  1.01427144 -1.03121016  1.02489897\n",
      "  1.00287115 -1.00364936 -0.93908713  1.00246269  1.10589208 -1.02586032\n",
      " -0.90476193  1.05986358 -0.75399939  1.19372255  0.99996928 -1.00331676\n",
      " -1.08993095 -1.01353043  1.00199158 -0.85223605 -1.00016066 -0.99955294\n",
      " -1.08209657 -0.90584567 -1.02586032 -0.99238918 -1.02586032  0.99996928\n",
      " -0.85558384  0.44433826  1.01450675 -0.96203696  1.00004643 -1.02031966\n",
      " -0.69077235 -1.08209657  1.15624101 -0.69077235 -0.84160199 -1.08993095\n",
      "  1.14980099  1.01794653  1.01731618  1.06874471  1.36032354  0.36119639\n",
      " -0.75040171 -0.97951669 -1.00225257 -1.02586032 -1.04424716 -1.08158521\n",
      " -1.00183371  1.02832785  1.05178559  1.00019316 -0.9865208  -1.02586032\n",
      "  1.1033381   1.00903961  1.00142763 -1.03080559 -1.00225257  1.35243297\n",
      " -0.79507437  1.00596455 -1.02031966 -1.1423537  -1.05973669  1.01621456\n",
      " -1.08209657 -1.04221561  1.01871163  0.96581504  1.19372255 -0.6004312\n",
      " -1.04424716  1.3308874   1.33189621  1.10305105  1.01861656  0.67151216\n",
      "  1.01335591  1.03547422 -1.0937508  -0.9497677   1.00219126  1.00246269\n",
      "  1.00601449 -1.02118985 -1.03121016 -0.9345731  -0.99592682 -1.03012587\n",
      "  1.01186159 -0.84160199  1.00345628  1.01312689  1.01186159 -1.1232739\n",
      " -1.02586032 -0.6004312   1.14053945 -0.91683386 -1.07622849 -1.05973669\n",
      "  1.04202171  1.00262133 -1.07295547  1.3308874  -0.93989194 -0.00254193\n",
      " -1.08209657  1.00182069  1.04460313  1.0022845   1.00874833  1.07084905\n",
      " -1.10150184 -1.02586032  1.00596455 -1.0000212   1.00991225  1.02042105\n",
      " -1.0498427   1.05178559 -1.00011839 -0.99592682  0.0457071   1.00262133\n",
      " -0.94593599 -0.84160199 -1.00364936 -0.92769512 -1.08209657  1.00781855\n",
      " -1.03806592 -0.84160199 -0.92518809  1.07772058  1.32714118  1.36032354\n",
      " -0.02219859 -1.1232739   1.04112418 -0.75399939 -1.0937508   1.13241301\n",
      " -0.68100546 -1.0000212   1.37377778  1.01400408  0.99996928  1.36201189\n",
      "  0.99674839 -1.0140777   1.01621456  1.01427144 -0.93908713 -1.04164546\n",
      "  1.00811292 -0.79952506 -1.00443828  0.99951401 -0.9983074   0.75925303\n",
      " -1.00225257 -1.10520704  0.93033299 -0.9865208  -0.99592682 -0.90492586\n",
      "  0.94255022 -0.84003748  0.44433826  1.00072884  1.01298127 -1.04164546\n",
      " -1.00016066  1.03744357  1.06708119 -0.60718966 -0.81524913  1.08558143\n",
      " -0.8979381  -0.9632111  -0.85053194  1.01427144 -0.83322384  0.94255022\n",
      " -1.12055266 -1.0937508  -1.03935277 -0.99955294  1.37377778  1.0118528\n",
      "  1.35591516  1.00194726  1.00739311 -0.61513279 -0.92769512 -1.04221561\n",
      "  1.36032354 -0.99592682 -0.84003748  0.78241756 -1.06020195 -1.03676313\n",
      "  0.5676852  -1.08209657  1.00601449  0.20464118 -0.94593599  1.0019006\n",
      " -1.09828636 -0.84003748  1.01427144  1.11716601 -0.75399939  0.93875902\n",
      " -1.10520704 -1.05973669 -0.83502945  1.00991225 -1.08120075  0.29363065\n",
      " -0.99955294  1.0721573  -1.01617853 -0.00285901  1.0026271   1.34434847\n",
      " -1.00016066  1.1745743   1.06899747 -1.0622418  -1.04221561 -0.68100546\n",
      " -0.85223605 -1.02586032 -0.76294602  1.32714118 -1.00010166  1.01433318\n",
      "  1.02157049  1.00160828  0.99951401 -0.99592682 -0.99800582  0.29363065\n",
      " -0.7928811  -0.60718966 -0.92769512  1.17367812  1.00771687  1.0000315\n",
      " -0.84945274 -1.13396014  1.00452328 -1.04424716  1.31524048  1.02967669\n",
      "  0.99996928 -1.08209657  1.14474073 -1.03080559 -0.8834409   0.99351126\n",
      " -1.04424716  1.01433318  1.01794653  0.21281994 -0.87301202 -0.90156997\n",
      " -0.79561438 -0.8834409  -1.03080559  1.34063498  0.94379912 -0.84003748\n",
      " -0.99955294  1.07772058  0.95951036 -1.07831308 -0.98675098  0.99983192\n",
      "  1.02332162  0.77184343 -0.0162828   1.00170955 -0.88044161  1.01078686\n",
      "  0.99996928  1.0006009   1.00246269  1.10305105  0.94255022  1.1403349\n",
      "  1.00811541 -1.03080559 -0.84003748 -0.99987595  1.00170955  1.00874833\n",
      " -1.00753004  1.00246269 -1.03676313  1.01158342 -0.80818558 -0.99800582\n",
      "  1.10623656  1.00329721 -0.99955119  1.03355459 -1.09842674  1.06267106\n",
      " -0.26332486 -0.93989194 -0.94593599 -0.97040412 -1.03935277 -0.76294602\n",
      "  1.35745528 -0.76708945  1.17841791 -1.00795298 -0.99592682  0.29363065\n",
      "  1.00246269 -0.6387089  -1.04496579  1.1417984   1.0100353   1.00452328\n",
      " -1.13106156  1.07725417 -1.09828636  1.00835531 -1.02932651 -0.79507437\n",
      " -0.99592682 -1.05245304  1.01452227  1.0279363   1.00345628  1.17591578\n",
      " -0.68814911 -1.11417037 -1.05973669 -0.84573022 -0.93908713  1.00991225\n",
      "  1.02363326 -0.8834409   1.00422001 -1.00225257  1.05872606 -1.02586032\n",
      " -0.97782026  1.06317811  1.00596455  1.01433318 -1.12055266 -1.04221561\n",
      " -0.85223605 -1.02401323  1.00985359 -1.08209657 -1.05973669 -0.84426235\n",
      "  1.0611356   1.00577228  1.35863524  1.07852193 -1.0000212  -0.97782026\n",
      " -1.03121016 -0.93908713 -1.0340801   1.1098653  -0.83552813 -0.93908713\n",
      " -1.04048715 -0.99987595 -1.03803217  1.00173431  1.00874833 -0.75436061\n",
      "  0.99996928 -0.98507121  1.00345628  1.0118528  -0.98101345  0.83445087\n",
      "  1.01090074  1.01452227 -0.19773179  1.03079033 -0.6004312  -1.03676313\n",
      "  1.18946024  1.03547422 -0.80883315  1.34510419 -0.94683855 -0.96203696\n",
      " -0.97782026  1.32714118  0.93901933  1.17113427 -1.03080559 -1.06249062\n",
      " -0.9345731   0.98579724 -0.90680235  1.00142763 -0.98399487  0.91601958\n",
      "  1.34510419 -0.0162828  -0.96203696 -1.14657337  1.0056287   1.02831697\n",
      " -1.08369868 -0.75399939 -1.03012587 -0.7341911   1.05864841  1.36279439\n",
      " -1.00483669  1.00065053 -1.03121016 -1.05442565 -1.07597406 -1.07256493\n",
      "  1.01335591 -1.00364936  1.01621456  1.36201189 -0.79561438 -0.99955119\n",
      "  1.37039329 -0.9345731 ]\n",
      "Dimension funcion de decision: 530\n",
      "Interceptacion: [0.28189036]\n"
     ]
    }
   ],
   "source": [
    "#Valores de salida para la función de decición del array x_val_reduced\n",
    "#Para cada vector de entrada devuelve el valor de la función de decisión, el valor en Z del hiperplano que separa las clases\n",
    "decision_function = svc.decision_function(X_val_reduced)\n",
    "#coeficientes = svc.coef_\n",
    "interceptacion = svc.intercept_\n",
    "\n",
    "print(f\"Cantidad de dato en X_train: {X.shape}\")\n",
    "print(f\"Decision: {decision_function}\")\n",
    "print(f\"Dimension funcion de decision: {len(decision_function)}\")\n",
    "#print(f\"Coeficientes: {coeficientes}\")\n",
    "print(f\"Interceptacion: {interceptacion}\")"
   ],
   "metadata": {
    "collapsed": false
   }
  },
  {
   "cell_type": "markdown",
   "source": [
    "## Predicción"
   ],
   "metadata": {
    "id": "sGMFFKZYwUN9"
   }
  },
  {
   "cell_type": "code",
   "source": [],
   "metadata": {
    "id": "xIBGv0zIL0kI"
   },
   "execution_count": 20,
   "outputs": []
  },
  {
   "cell_type": "markdown",
   "source": [
    "### Explicación, justificación y conclusiones de las actividades desarrolladas en la sección"
   ],
   "metadata": {
    "id": "0iNVse_X-8iG"
   }
  },
  {
   "cell_type": "markdown",
   "source": [],
   "metadata": {
    "id": "P6_Xwvtr-8lU"
   }
  },
  {
   "cell_type": "markdown",
   "source": [
    "## Análisis de la importancia de cada característica"
   ],
   "metadata": {
    "id": "0MjDEzxWweYh"
   }
  },
  {
   "cell_type": "code",
   "source": [],
   "metadata": {
    "id": "ZLIf177Vwde5"
   },
   "execution_count": 20,
   "outputs": []
  },
  {
   "cell_type": "markdown",
   "source": [
    "### Explicación, justificación y conclusiones de las actividades desarrolladas en la sección"
   ],
   "metadata": {
    "id": "YgfVLRtA-_Wx"
   }
  },
  {
   "cell_type": "markdown",
   "source": [],
   "metadata": {
    "id": "7pZlQxn0-_Zt"
   }
  },
  {
   "cell_type": "markdown",
   "source": [
    "# Evaluación\n",
    "\n",
    "Por cada modelo de clasificación utilizado calcular:"
   ],
   "metadata": {
    "id": "ojqX5PUGKc5s"
   }
  },
  {
   "cell_type": "markdown",
   "source": [
    "## Matriz de confusión\n"
   ],
   "metadata": {
    "id": "eoNUIUACvk8p"
   }
  },
  {
   "cell_type": "code",
   "source": [],
   "metadata": {
    "id": "BT0WN3s4M7FW"
   },
   "execution_count": 20,
   "outputs": []
  },
  {
   "cell_type": "markdown",
   "source": [
    "### Explicación, justificación y conclusiones de las actividades desarrolladas en la sección"
   ],
   "metadata": {
    "id": "1hH-q1_0_E5E"
   }
  },
  {
   "cell_type": "markdown",
   "source": [],
   "metadata": {
    "id": "DeIu8Dcu_E7v"
   }
  },
  {
   "cell_type": "markdown",
   "source": [
    "## Accuracy, Precision, Recall, F-score"
   ],
   "metadata": {
    "id": "2zbUX3x0v22h"
   }
  },
  {
   "cell_type": "markdown",
   "source": [
    "Las métricas se deben calcular para los dos datasets. La valoración del resultado se hace con las métricas del dataset de validación, pero es útil compararlas con las del dataset de entrenamiento para determinar la magnitud del sobreajuste."
   ],
   "metadata": {
    "id": "Zttdfmo-1Wp-"
   }
  },
  {
   "cell_type": "code",
   "source": [],
   "metadata": {
    "id": "F_DRJWAKv3Bl"
   },
   "execution_count": 20,
   "outputs": []
  },
  {
   "cell_type": "markdown",
   "source": [
    "### Explicación, justificación y conclusiones de las actividades desarrolladas en la sección"
   ],
   "metadata": {
    "id": "5ZUzq7Xh_IOP"
   }
  },
  {
   "cell_type": "markdown",
   "source": [],
   "metadata": {
    "id": "hPdftq_4_IRL"
   }
  },
  {
   "cell_type": "markdown",
   "source": [
    "## Curva ROC"
   ],
   "metadata": {
    "id": "21igvq6-v3Zs"
   }
  },
  {
   "cell_type": "code",
   "source": [],
   "metadata": {
    "id": "QXwtsnKpv3tz"
   },
   "execution_count": 20,
   "outputs": []
  },
  {
   "cell_type": "markdown",
   "source": [
    "### Explicación, justificación y conclusiones de las actividades desarrolladas en la sección"
   ],
   "metadata": {
    "id": "cim-pgpM_LEz"
   }
  },
  {
   "cell_type": "markdown",
   "source": [],
   "metadata": {
    "id": "T6b_jc38_LNb"
   }
  },
  {
   "cell_type": "markdown",
   "source": [
    "# Conclusiones"
   ],
   "metadata": {
    "id": "5O0oeySKKc85"
   }
  },
  {
   "cell_type": "markdown",
   "source": [
    "En esta sección se debe escribir una conclusión sobre los datos y el resultado que se obtuvo, no conclusiones generales del TP. Por ejemplo, qué conocimiento nuevo se obtuvo sobre los datos y qué tan exacta y confiable es la predicción que se puede hacer. En otras palabras, la informción que el cliente o el dueño de los datos espera recibir.\n",
    "\n",
    "Además, si no se lo explicó antes (en esta mimsa sección), responder las siguientes preguntas:\n",
    "\n",
    "* ¿Cuáles son las salidas del o los modelos utilizados? ¿Qué significan?\n",
    "\n",
    "* En base a los resultados de evaluación de los modelos, ¿Cuál se debería elegir?\n",
    "\n",
    "* ¿Los modelos utilizados permiten interpretar o explicar la lógica de la toma de la decisión? En caso de respuesta afirmativa, ¿Cuál es esa lógica? En caso de respuesta negativa, ¿Por qué?"
   ],
   "metadata": {
    "id": "h66_oi-i_pqx"
   }
  },
  {
   "cell_type": "markdown",
   "source": [],
   "metadata": {
    "id": "b5lCjvZi9e5r"
   }
  },
  {
   "cell_type": "markdown",
   "source": [
    "# Informe"
   ],
   "metadata": {
    "id": "YKTk4Ey_9bRP"
   }
  },
  {
   "cell_type": "markdown",
   "source": [],
   "metadata": {
    "id": "QkhetfFY9gTW"
   }
  }
 ]
}
